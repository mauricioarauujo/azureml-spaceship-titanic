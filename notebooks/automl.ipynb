{
  "cells": [
    {
      "cell_type": "markdown",
      "source": [
        "# Automated ML\n",
        "\n",
        "TODO: Import Dependencies. In the cell below, import all the dependencies that you will need to complete the project."
      ],
      "metadata": {}
    },
    {
      "cell_type": "code",
      "source": [
        "import logging\n",
        "import os\n",
        "import csv\n",
        "\n",
        "from matplotlib import pyplot as plt\n",
        "import numpy as np\n",
        "import pandas as pd\n",
        "from sklearn import datasets\n",
        "import pkg_resources\n",
        "\n",
        "import azureml.core\n",
        "from azureml.core.experiment import Experiment\n",
        "from azureml.core.workspace import Workspace\n",
        "from azureml.train.automl import AutoMLConfig\n",
        "from azureml.core.dataset import Dataset\n",
        "from azureml.pipeline.core import Pipeline\n",
        "\n",
        "from azureml.pipeline.steps import AutoMLStep\n",
        "\n",
        "# Check core SDK version number\n",
        "print(\"SDK version:\", azureml.core.VERSION)"
      ],
      "outputs": [
        {
          "output_type": "stream",
          "name": "stdout",
          "text": "SDK version: 1.51.0\n"
        }
      ],
      "execution_count": 1,
      "metadata": {
        "gather": {
          "logged": 1706797290109
        },
        "jupyter": {
          "outputs_hidden": false,
          "source_hidden": false
        },
        "nteract": {
          "transient": {
            "deleting": false
          }
        }
      }
    },
    {
      "cell_type": "code",
      "source": [
        "ws = Workspace.from_config()\n",
        "\n",
        "# choose a name for experiment\n",
        "experiment_name = 'automl-experiment'\n",
        "\n",
        "experiment=Experiment(ws, experiment_name)"
      ],
      "outputs": [],
      "execution_count": 2,
      "metadata": {
        "jupyter": {
          "source_hidden": false,
          "outputs_hidden": false
        },
        "nteract": {
          "transient": {
            "deleting": false
          }
        },
        "gather": {
          "logged": 1706797291331
        }
      }
    },
    {
      "cell_type": "code",
      "source": [
        "from azureml.core.compute import AmlCompute\n",
        "from azureml.core.compute import ComputeTarget\n",
        "from azureml.core.compute_target import ComputeTargetException\n",
        "\n",
        "# NOTE: update the cluster name to match the existing cluster\n",
        "# Choose a name for your CPU cluster\n",
        "amlcompute_cluster_name = \"my-cluster\"\n",
        "\n",
        "# Verify that cluster does not exist already\n",
        "try:\n",
        "    compute_target = ComputeTarget(workspace=ws, name=amlcompute_cluster_name)\n",
        "    print('Found existing cluster, use it.')\n",
        "except ComputeTargetException:\n",
        "    compute_config = AmlCompute.provisioning_configuration(vm_size='STANDARD_D2_V2',# for GPU, use \"STANDARD_NC6\"\n",
        "                                                           #vm_priority = 'lowpriority', # optional\n",
        "                                                           max_nodes=4)\n",
        "    compute_target = ComputeTarget.create(ws, amlcompute_cluster_name, compute_config)\n",
        "\n",
        "compute_target.wait_for_completion(show_output=True)\n",
        "# For a more detailed view of current AmlCompute status, use get_status()."
      ],
      "outputs": [
        {
          "output_type": "stream",
          "name": "stdout",
          "text": "InProgress..\nSucceededProvisioning operation finished, operation \"Succeeded\"\nSucceeded\nAmlCompute wait for completion finished\n\nMinimum number of nodes requested have been provisioned\n"
        }
      ],
      "execution_count": 3,
      "metadata": {
        "gather": {
          "logged": 1706797302766
        }
      }
    },
    {
      "cell_type": "markdown",
      "source": [
        "## Dataset\n",
        "\n",
        "### Overview\n",
        "TODO: In this markdown cell, give an overview of the dataset you are using. Also mention the task you will be performing.\n",
        "\n",
        "\n",
        "TODO: Get data. In the cell below, write code to access the data you will be using in this project. Remember that the dataset needs to be external."
      ],
      "metadata": {}
    },
    {
      "cell_type": "code",
      "source": [
        "project_name = 'azureml-spaceship-titanic'\n",
        "project_folder = os.getcwd().split(project_name)[0] + project_name"
      ],
      "outputs": [],
      "execution_count": 4,
      "metadata": {
        "jupyter": {
          "source_hidden": false,
          "outputs_hidden": false
        },
        "nteract": {
          "transient": {
            "deleting": false
          }
        },
        "gather": {
          "logged": 1706797302885
        }
      }
    },
    {
      "cell_type": "code",
      "source": [
        "import sys\n",
        "sys.path.append(project_folder)\n",
        "\n",
        "from src.pipelines.preprocess import preprocess_data\n",
        "\n",
        "df = pd.read_csv('../data/01_raw/train.csv')\n",
        "processed_df = preprocess_data(df).drop(columns=[\"PassengerId\"])\n"
      ],
      "outputs": [],
      "execution_count": 5,
      "metadata": {
        "jupyter": {
          "source_hidden": false,
          "outputs_hidden": false
        },
        "nteract": {
          "transient": {
            "deleting": false
          }
        },
        "gather": {
          "logged": 1706797303685
        }
      }
    },
    {
      "cell_type": "code",
      "source": [
        "dataset_name = \"Spaceship_Dataset\"\n",
        "description_text = \"Data to predict which passengers are transported to an alternate dimension\"\n",
        "\n",
        "# Create AML Dataset and register it into Workspace\n",
        "dataset = Dataset.Tabular.register_pandas_dataframe(processed_df, ws.get_default_datastore(), dataset_name)   \n",
        "#Register Dataset in Workspace\n",
        "dataset = dataset.register(workspace=ws,\n",
        "                                name=dataset_name,\n",
        "                                description=description_text,\n",
        "                                create_new_version=True\n",
        "                        )\n",
        "\n",
        "\n",
        "df = dataset.to_pandas_dataframe()\n",
        "df.describe()"
      ],
      "outputs": [
        {
          "output_type": "stream",
          "name": "stdout",
          "text": "Validating arguments.\nArguments validated.\nSuccessfully obtained datastore reference and path.\nUploading file to managed-dataset/56b45e6b-0788-48fe-ad31-696c88cab3b3/\nSuccessfully uploaded file to datastore.\nCreating and registering a new dataset.\nSuccessfully created and registered a new dataset.\n"
        },
        {
          "output_type": "execute_result",
          "execution_count": 6,
          "data": {
            "text/plain": "        RoomService     FoodCourt  ShoppingMall           Spa        VRDeck  \\\ncount   8512.000000   8510.000000   8485.000000   8510.000000   8505.000000   \nmean     224.687617    458.077203    173.729169    311.138778    304.854791   \nstd      666.717663   1611.489240    604.696458   1136.705535   1145.717189   \nmin        0.000000      0.000000      0.000000      0.000000      0.000000   \n25%        0.000000      0.000000      0.000000      0.000000      0.000000   \n50%        0.000000      0.000000      0.000000      0.000000      0.000000   \n75%       47.000000     76.000000     27.000000     59.000000     46.000000   \nmax    14327.000000  29813.000000  23492.000000  22408.000000  24133.000000   \n\n       People_in_Cabin_Num  People_in_Cabin_Deck  Family_Size   Group_Size  \ncount          8494.000000           8494.000000  8493.000000  8693.000000  \nmean              8.037203           1952.105957     5.428117     2.035546  \nstd               5.214669            963.741893     2.891901     1.596347  \nmin               1.000000              5.000000     1.000000     1.000000  \n25%               4.000000            779.000000     3.000000     1.000000  \n50%               7.000000           2559.000000     5.000000     1.000000  \n75%              12.000000           2794.000000     7.000000     3.000000  \nmax              28.000000           2794.000000    18.000000     8.000000  ",
            "text/html": "<div>\n<style scoped>\n    .dataframe tbody tr th:only-of-type {\n        vertical-align: middle;\n    }\n\n    .dataframe tbody tr th {\n        vertical-align: top;\n    }\n\n    .dataframe thead th {\n        text-align: right;\n    }\n</style>\n<table border=\"1\" class=\"dataframe\">\n  <thead>\n    <tr style=\"text-align: right;\">\n      <th></th>\n      <th>RoomService</th>\n      <th>FoodCourt</th>\n      <th>ShoppingMall</th>\n      <th>Spa</th>\n      <th>VRDeck</th>\n      <th>People_in_Cabin_Num</th>\n      <th>People_in_Cabin_Deck</th>\n      <th>Family_Size</th>\n      <th>Group_Size</th>\n    </tr>\n  </thead>\n  <tbody>\n    <tr>\n      <th>count</th>\n      <td>8512.000000</td>\n      <td>8510.000000</td>\n      <td>8485.000000</td>\n      <td>8510.000000</td>\n      <td>8505.000000</td>\n      <td>8494.000000</td>\n      <td>8494.000000</td>\n      <td>8493.000000</td>\n      <td>8693.000000</td>\n    </tr>\n    <tr>\n      <th>mean</th>\n      <td>224.687617</td>\n      <td>458.077203</td>\n      <td>173.729169</td>\n      <td>311.138778</td>\n      <td>304.854791</td>\n      <td>8.037203</td>\n      <td>1952.105957</td>\n      <td>5.428117</td>\n      <td>2.035546</td>\n    </tr>\n    <tr>\n      <th>std</th>\n      <td>666.717663</td>\n      <td>1611.489240</td>\n      <td>604.696458</td>\n      <td>1136.705535</td>\n      <td>1145.717189</td>\n      <td>5.214669</td>\n      <td>963.741893</td>\n      <td>2.891901</td>\n      <td>1.596347</td>\n    </tr>\n    <tr>\n      <th>min</th>\n      <td>0.000000</td>\n      <td>0.000000</td>\n      <td>0.000000</td>\n      <td>0.000000</td>\n      <td>0.000000</td>\n      <td>1.000000</td>\n      <td>5.000000</td>\n      <td>1.000000</td>\n      <td>1.000000</td>\n    </tr>\n    <tr>\n      <th>25%</th>\n      <td>0.000000</td>\n      <td>0.000000</td>\n      <td>0.000000</td>\n      <td>0.000000</td>\n      <td>0.000000</td>\n      <td>4.000000</td>\n      <td>779.000000</td>\n      <td>3.000000</td>\n      <td>1.000000</td>\n    </tr>\n    <tr>\n      <th>50%</th>\n      <td>0.000000</td>\n      <td>0.000000</td>\n      <td>0.000000</td>\n      <td>0.000000</td>\n      <td>0.000000</td>\n      <td>7.000000</td>\n      <td>2559.000000</td>\n      <td>5.000000</td>\n      <td>1.000000</td>\n    </tr>\n    <tr>\n      <th>75%</th>\n      <td>47.000000</td>\n      <td>76.000000</td>\n      <td>27.000000</td>\n      <td>59.000000</td>\n      <td>46.000000</td>\n      <td>12.000000</td>\n      <td>2794.000000</td>\n      <td>7.000000</td>\n      <td>3.000000</td>\n    </tr>\n    <tr>\n      <th>max</th>\n      <td>14327.000000</td>\n      <td>29813.000000</td>\n      <td>23492.000000</td>\n      <td>22408.000000</td>\n      <td>24133.000000</td>\n      <td>28.000000</td>\n      <td>2794.000000</td>\n      <td>18.000000</td>\n      <td>8.000000</td>\n    </tr>\n  </tbody>\n</table>\n</div>"
          },
          "metadata": {}
        }
      ],
      "execution_count": 6,
      "metadata": {
        "gather": {
          "logged": 1706797312618
        },
        "jupyter": {
          "outputs_hidden": false,
          "source_hidden": false
        },
        "nteract": {
          "transient": {
            "deleting": false
          }
        }
      }
    },
    {
      "cell_type": "markdown",
      "source": [
        "## AutoML Configuration\n",
        "\n",
        "TODO: Explain why you chose the automl settings and cofiguration you used below."
      ],
      "metadata": {}
    },
    {
      "cell_type": "code",
      "source": [
        "automl_settings = {\n",
        "    \"experiment_timeout_minutes\": 20,\n",
        "    \"max_concurrent_iterations\": 4,\n",
        "    \"primary_metric\" : 'accuracy',\n",
        "    \"n_cross_validations\": 5,\n",
        "}\n",
        "automl_config = AutoMLConfig(compute_target=compute_target,\n",
        "                             task = \"classification\",\n",
        "                             training_data=dataset,\n",
        "                             label_column_name=\"Transported\",   \n",
        "                             path = project_folder + '/automl-pipeline',\n",
        "                             enable_early_stopping= True,\n",
        "                             featurization= 'auto',\n",
        "                             debug_log = \"automl_errors.log\",\n",
        "                             **automl_settings\n",
        "                            )\n",
        "automl_run = experiment.submit(automl_config)"
      ],
      "outputs": [],
      "execution_count": 9,
      "metadata": {
        "jupyter": {
          "source_hidden": false,
          "outputs_hidden": false
        },
        "nteract": {
          "transient": {
            "deleting": false
          }
        },
        "gather": {
          "logged": 1706797328334
        }
      }
    },
    {
      "cell_type": "markdown",
      "source": [
        "## Run Details\n",
        "\n",
        "OPTIONAL: Write about the different models trained and their performance. Why do you think some models did better than others?\n",
        "\n",
        "TODO: In the cell below, use the `RunDetails` widget to show the different experiments."
      ],
      "metadata": {
        "nteract": {
          "transient": {
            "deleting": false
          }
        }
      }
    },
    {
      "cell_type": "code",
      "source": [
        "from azureml.widgets import RunDetails\n",
        "\n",
        "RunDetails(automl_run).show()\n",
        "automl_run.wait_for_completion(show_output=True)"
      ],
      "outputs": [
        {
          "output_type": "display_data",
          "data": {
            "text/plain": "_AutoMLWidget(widget_settings={'childWidgetDisplay': 'popup', 'send_telemetry': False, 'log_level': 'INFO', 's…",
            "application/vnd.jupyter.widget-view+json": {
              "version_major": 2,
              "version_minor": 0,
              "model_id": "a8df22b5229d49068addbcfea621e595"
            }
          },
          "metadata": {}
        },
        {
          "output_type": "display_data",
          "data": {
            "application/aml.mini.widget.v1": "{\"status\": \"Completed\", \"workbench_run_details_uri\": \"https://ml.azure.com/runs/AutoML_4c7ea1c1-7479-4a9f-b8fc-77866872cc89?wsid=/subscriptions/2c48c51c-bd47-40d4-abbe-fb8eabd19c8c/resourcegroups/aml-quickstarts-251292/workspaces/quick-starts-ws-251292&tid=660b3398-b80e-49d2-bc5b-ac1dc93b5254\", \"run_id\": \"AutoML_4c7ea1c1-7479-4a9f-b8fc-77866872cc89\", \"run_properties\": {\"run_id\": \"AutoML_4c7ea1c1-7479-4a9f-b8fc-77866872cc89\", \"created_utc\": \"2024-02-01T14:22:13.752196Z\", \"properties\": {\"num_iterations\": \"1000\", \"training_type\": \"TrainFull\", \"acquisition_function\": \"EI\", \"primary_metric\": \"accuracy\", \"train_split\": \"0\", \"acquisition_parameter\": \"0\", \"num_cross_validation\": \"5\", \"target\": \"my-cluster\", \"AMLSettingsJsonString\": \"{\\\"path\\\":null,\\\"name\\\":\\\"automl-experiment\\\",\\\"subscription_id\\\":\\\"2c48c51c-bd47-40d4-abbe-fb8eabd19c8c\\\",\\\"resource_group\\\":\\\"aml-quickstarts-251292\\\",\\\"workspace_name\\\":\\\"quick-starts-ws-251292\\\",\\\"region\\\":\\\"westeurope\\\",\\\"compute_target\\\":\\\"my-cluster\\\",\\\"spark_service\\\":null,\\\"azure_service\\\":\\\"remote\\\",\\\"many_models\\\":false,\\\"pipeline_fetch_max_batch_size\\\":1,\\\"enable_batch_run\\\":true,\\\"enable_parallel_run\\\":false,\\\"num_procs\\\":null,\\\"enable_run_restructure\\\":false,\\\"start_auxiliary_runs_before_parent_complete\\\":false,\\\"enable_code_generation\\\":true,\\\"iterations\\\":1000,\\\"primary_metric\\\":\\\"accuracy\\\",\\\"task_type\\\":\\\"classification\\\",\\\"positive_label\\\":null,\\\"data_script\\\":null,\\\"test_size\\\":0.0,\\\"test_include_predictions_only\\\":false,\\\"validation_size\\\":0.0,\\\"n_cross_validations\\\":5,\\\"y_min\\\":null,\\\"y_max\\\":null,\\\"num_classes\\\":null,\\\"featurization\\\":\\\"auto\\\",\\\"_ignore_package_version_incompatibilities\\\":false,\\\"is_timeseries\\\":false,\\\"max_cores_per_iteration\\\":1,\\\"max_concurrent_iterations\\\":4,\\\"iteration_timeout_minutes\\\":null,\\\"mem_in_mb\\\":null,\\\"enforce_time_on_windows\\\":false,\\\"experiment_timeout_minutes\\\":20,\\\"experiment_exit_score\\\":null,\\\"partition_column_names\\\":null,\\\"whitelist_models\\\":null,\\\"blacklist_algos\\\":[\\\"TensorFlowLinearClassifier\\\",\\\"TensorFlowDNN\\\"],\\\"supported_models\\\":[\\\"KNN\\\",\\\"LogisticRegression\\\",\\\"AveragedPerceptronClassifier\\\",\\\"SVM\\\",\\\"TensorFlowDNN\\\",\\\"ExtremeRandomTrees\\\",\\\"GradientBoosting\\\",\\\"SGD\\\",\\\"XGBoostClassifier\\\",\\\"LinearSVM\\\",\\\"TensorFlowLinearClassifier\\\",\\\"RandomForest\\\",\\\"LightGBM\\\",\\\"MultinomialNaiveBayes\\\",\\\"BernoulliNaiveBayes\\\",\\\"TabnetClassifier\\\",\\\"DecisionTree\\\"],\\\"private_models\\\":[],\\\"auto_blacklist\\\":true,\\\"blacklist_samples_reached\\\":false,\\\"exclude_nan_labels\\\":true,\\\"verbosity\\\":20,\\\"_debug_log\\\":\\\"azureml_automl.log\\\",\\\"show_warnings\\\":false,\\\"model_explainability\\\":true,\\\"service_url\\\":null,\\\"sdk_url\\\":null,\\\"sdk_packages\\\":null,\\\"enable_onnx_compatible_models\\\":false,\\\"enable_split_onnx_featurizer_estimator_models\\\":false,\\\"vm_type\\\":\\\"STANDARD_D2_V2\\\",\\\"telemetry_verbosity\\\":20,\\\"send_telemetry\\\":true,\\\"enable_dnn\\\":false,\\\"scenario\\\":\\\"AutoML\\\",\\\"environment_label\\\":null,\\\"save_mlflow\\\":false,\\\"enable_categorical_indicators\\\":false,\\\"force_text_dnn\\\":false,\\\"enable_feature_sweeping\\\":true,\\\"enable_early_stopping\\\":true,\\\"early_stopping_n_iters\\\":10,\\\"arguments\\\":null,\\\"dataset_id\\\":\\\"6a9798a1-0076-4fa0-b4e5-1c794db716c7\\\",\\\"hyperdrive_config\\\":null,\\\"validation_dataset_id\\\":null,\\\"run_source\\\":null,\\\"metrics\\\":null,\\\"enable_metric_confidence\\\":false,\\\"enable_ensembling\\\":true,\\\"enable_stack_ensembling\\\":true,\\\"ensemble_iterations\\\":15,\\\"enable_tf\\\":false,\\\"enable_subsampling\\\":null,\\\"subsample_seed\\\":null,\\\"enable_nimbusml\\\":false,\\\"enable_streaming\\\":false,\\\"force_streaming\\\":false,\\\"track_child_runs\\\":true,\\\"n_best_runs\\\":1,\\\"allowed_private_models\\\":[],\\\"label_column_name\\\":\\\"Transported\\\",\\\"weight_column_name\\\":null,\\\"cv_split_column_names\\\":null,\\\"enable_local_managed\\\":false,\\\"_local_managed_run_id\\\":null,\\\"cost_mode\\\":1,\\\"lag_length\\\":0,\\\"metric_operation\\\":\\\"maximize\\\",\\\"preprocess\\\":true}\", \"DataPrepJsonString\": \"{\\\\\\\"training_data\\\\\\\": {\\\\\\\"datasetId\\\\\\\": \\\\\\\"6a9798a1-0076-4fa0-b4e5-1c794db716c7\\\\\\\"}, \\\\\\\"datasets\\\\\\\": 0}\", \"EnableSubsampling\": null, \"runTemplate\": \"AutoML\", \"azureml.runsource\": \"automl\", \"display_task_type\": \"classification\", \"dependencies_versions\": \"{\\\"azureml-dataprep-native\\\": \\\"38.0.0\\\", \\\"azureml-dataprep\\\": \\\"4.10.8\\\", \\\"azureml-dataprep-rslex\\\": \\\"2.17.12\\\", \\\"azureml-train-automl-runtime\\\": \\\"1.51.0.post2\\\", \\\"azureml-train-automl-client\\\": \\\"1.51.0.post1\\\", \\\"azureml-training-tabular\\\": \\\"1.51.0.post1\\\", \\\"azureml-automl-runtime\\\": \\\"1.51.0.post1\\\", \\\"azureml-automl-core\\\": \\\"1.51.0.post1\\\", \\\"azureml-mlflow\\\": \\\"1.51.0\\\", \\\"azureml-datadrift\\\": \\\"1.51.0\\\", \\\"azureml-pipeline\\\": \\\"1.51.0\\\", \\\"azureml-contrib-dataset\\\": \\\"1.51.0\\\", \\\"azureml-contrib-notebook\\\": \\\"1.51.0\\\", \\\"azureml-accel-models\\\": \\\"1.51.0\\\", \\\"azureml-automl-dnn-nlp\\\": \\\"1.51.0\\\", \\\"azureml-pipeline-core\\\": \\\"1.51.0\\\", \\\"azureml-responsibleai\\\": \\\"1.51.0\\\", \\\"azureml-contrib-automl-pipeline-steps\\\": \\\"1.51.0\\\", \\\"azureml-pipeline-steps\\\": \\\"1.51.0\\\", \\\"azureml-core\\\": \\\"1.51.0\\\", \\\"azureml-contrib-reinforcementlearning\\\": \\\"1.51.0\\\", \\\"azureml-contrib-server\\\": \\\"1.51.0\\\", \\\"azureml-opendatasets\\\": \\\"1.51.0\\\", \\\"azureml-contrib-services\\\": \\\"1.51.0\\\", \\\"azureml-telemetry\\\": \\\"1.51.0\\\", \\\"azureml-train-restclients-hyperdrive\\\": \\\"1.51.0\\\", \\\"azureml-interpret\\\": \\\"1.51.0\\\", \\\"azureml-train-core\\\": \\\"1.51.0\\\", \\\"azureml-tensorboard\\\": \\\"1.51.0\\\", \\\"azureml-train\\\": \\\"1.51.0\\\", \\\"azureml-contrib-pipeline-steps\\\": \\\"1.51.0\\\", \\\"azureml-explain-model\\\": \\\"1.51.0\\\", \\\"azureml-cli-common\\\": \\\"1.51.0\\\", \\\"azureml-widgets\\\": \\\"1.51.0\\\", \\\"azureml-train-automl\\\": \\\"1.51.0\\\", \\\"azureml-defaults\\\": \\\"1.51.0\\\", \\\"azureml-contrib-fairness\\\": \\\"1.51.0\\\", \\\"azureml-sdk\\\": \\\"1.51.0\\\", \\\"azureml-dataset-runtime\\\": \\\"1.51.0\\\", \\\"azureml-inference-server-http\\\": \\\"0.8.4\\\"}\", \"_aml_system_scenario_identification\": \"Remote.Parent\", \"ClientType\": \"SDK\", \"PlatformVersion\": \"DPV1\", \"environment_cpu_name\": \"AzureML-AutoML\", \"environment_cpu_label\": \"scikit-upgrade2\", \"environment_gpu_name\": \"AzureML-AutoML-GPU\", \"environment_gpu_label\": \"scikit-upgrade2\", \"root_attribution\": \"automl\", \"attribution\": \"AutoML\", \"Orchestrator\": \"AutoML\", \"CancelUri\": \"https://westeurope.api.azureml.ms/jasmine/v1.0/subscriptions/2c48c51c-bd47-40d4-abbe-fb8eabd19c8c/resourceGroups/aml-quickstarts-251292/providers/Microsoft.MachineLearningServices/workspaces/quick-starts-ws-251292/experimentids/a9b2ec97-6f1f-4526-91e6-ce5f2b917818/cancel/AutoML_4c7ea1c1-7479-4a9f-b8fc-77866872cc89\", \"ClientSdkVersion\": null, \"snapshotId\": \"00000000-0000-0000-0000-000000000000\", \"SetupRunId\": \"AutoML_4c7ea1c1-7479-4a9f-b8fc-77866872cc89_setup\", \"SetupRunContainerId\": \"dcid.AutoML_4c7ea1c1-7479-4a9f-b8fc-77866872cc89_setup\", \"FeaturizationRunJsonPath\": \"featurizer_container.json\", \"FeaturizationRunId\": \"AutoML_4c7ea1c1-7479-4a9f-b8fc-77866872cc89_featurize\", \"ProblemInfoJsonString\": \"{\\\"dataset_num_categorical\\\": 0, \\\"is_sparse\\\": true, \\\"subsampling\\\": false, \\\"has_extra_col\\\": true, \\\"dataset_classes\\\": 2, \\\"dataset_features\\\": 59, \\\"dataset_samples\\\": 8693, \\\"single_frequency_class_detected\\\": false}\", \"ModelExplainRunId\": \"AutoML_4c7ea1c1-7479-4a9f-b8fc-77866872cc89_ModelExplain\"}, \"tags\": {\"model_explain_run\": \"best_run\", \"_aml_system_automl_run_workspace_id\": \"667cd185-e237-49aa-9010-b81b7364fde9\", \"_aml_system_azureml.automlComponent\": \"AutoML\", \"pipeline_id_000\": \"5dfac790c5c209f98a1da2dc1c7fb76f0397324f;c7af0367625be6ac5c2fecbfc72ed444cb7a2111;799d2168db11fc19b9e1c6c1df62f8981ad39fe9;44b5d2d23120dfcf96a7dc6389a293d17a966b1b;3735210984ea10097d5c91905cf6300ac278cd89;5304e705d6f401cb07f85bcf0ca59ac1f84dfcf5;294650ec23bc3d067a4972de7ceb12f6e97260fa;3caa818370e5e0c328d6266c359019bd31681270;79ebb3b8c385e3190e3dd4c1fa28b74730528045;589334a57221e0720a95cf217c065115a7b841d1;1dfdf370ba770047b14bfa59c40920815defcdab;5235e3d56688f5f38ef82d73fba7c2e698fc1af2;17f87d449bb43aaf3cdae4b7eb6dd6e7fbdaf343;5a8eb9d9f67b1dd7e9e4062585daa2417ea78989;35b8e2db3c5f6e714072e1be9f0210fe48426975;dc68fbd594530b5d52812dd9b3ffa3d6d8ba625e;da45f657e4591caadf1589a85a1f7b8932585595;797e3e972ad02d947be4c64d2b06b775b6df7a49;2032292dd602836ed754a266c771ac100c4c80dc;3fd2e115482e0c7b92aa3297688aefb6c3aa6fb8;1b9ea9b05e1aba0cfbaa30fae26f336a29920979;fedbb4995d6de479c513576119965d71276f03d1;f52e31edb9a1c79d3094620546ebbc7788edbaf8;3ef9040509da05037cd402691a100d4b3dfeb7c4;675ec1c734ed516311cf5441a13a05b407df5a00;1ba5554280c84fd9076073ac8862a27b7f59ff74;b6918c0fbb4f80b14013e752ee6394514e5d9cac;e478544eb8734c07a1943f5bdf4e6605be6943df;1dc1d129dd0602e1ab3b8f104f9c9447e7fddeaf;a34bc4bda7635db537fa5fcc31a922158b179946;de43453c09484de7f2c6170d9d8aca0547a93456;0271727006650d69e50e6b01d53fa8a788575fd3;e6032414b604c873a6977d5a708378108c89afa7;db291fa1e3ff08e15c1076fb702d1c0d04441c3d;b835115666eb4e8c7c8156d7650ae26cc1e67e40;7b2ff31747680ed52fb840c420a52701c6080bcd;202079123c8d53fca71e5d744b0585f6d0d9201a;ff48057d196be15ebc371dfd85246d4982a23e3a;__AutoML_Stack_Ensemble__;__AutoML_Ensemble__\", \"score_000\": \"0.8055900279977845;0.7991491479237237;0.7393301707064163;0.7981129453523744;0.804554487156157;0.7894840559532184;0.788563986948043;0.7849980578232665;0.7264439107961865;0.8002986386234434;0.7833877385452931;0.7930500512509668;0.7679720167735249;0.7835026148249957;0.8044392800115935;0.8063968088745896;0.7947747174248655;0.7809718295040138;0.7722299166683759;0.799723661668181;0.8045550827129067;0.7868399825038661;0.7946597749721909;0.7427802309569074;0.7312771846841333;0.7955827555881422;0.7852287368042822;0.8019097519770829;0.8128376227756782;0.7977681841673223;0.5036235657835443;0.8013333853894048;0.8035202036010007;0.8104225739830373;0.7416300785274661;NaN;NaN;NaN;0.8145622889495769;0.8178985978608925\", \"predicted_cost_000\": \"0;0;0.5;0.5;0.5;0.5;0.5;0.5;0.5;0.5;0.5;0.5;0.5;0.5;0.5;0.5;0.5;0.5;0.5;0.5;0.1940964239605242;1.9569740094343484;1.5335739285882426;0.12406569455302882;1.3677959683577692;1.6179664224601744;2.3148171275870606;0.3625024243652929;0.9798926866109545;1.6853070572094546;0.05569516721974555;0.39395420059685526;0.6344721217088889;1.4043130417976628;0.16726669605317546;0.13292357848400083;0.18945764989766609;0.6668567341297444;0;0\", \"fit_time_000\": \"0.2658252;1.0681011999999999;0.5562786;0.3891962;0.0961062;0.05666279999999999;0.1930884;0.43817199999999995;0.08410240000000001;0.13319259999999997;1.3483375999999998;0.15599159999999998;0.3920034;0.0773938;0.1307248;0.42125880000000004;0.4066536;0.1057682;3.5645566000000004;0.2226222;0.5999864;6.920794199999999;0.21558119999999997;0.0528722;0.37282839999999995;7.0886144;2.0019370000000003;0.2562886;0.5289628;3.5103619999999993;0.08065180000000001;0.18552039999999997;1.6310870000000002;0.25510740000000004;0.0707956;NaN;NaN;NaN;38;27\", \"training_percent_000\": \"100;100;100;100;100;100;100;100;100;100;100;100;100;100;100;100;100;100;100;100;100;100;100;100;100;100;100;100;100;100;100;100;100;100;100;100;100;100;100;100\", \"iteration_000\": \"0;1;2;3;4;5;6;7;8;9;15;16;17;10;11;18;12;13;19;14;22;20;23;24;25;26;27;21;29;28;30;32;31;33;34;36;37;35;39;38\", \"run_preprocessor_000\": \"MaxAbsScaler;MaxAbsScaler;MaxAbsScaler;SparseNormalizer;MaxAbsScaler;MaxAbsScaler;StandardScalerWrapper;MaxAbsScaler;StandardScalerWrapper;StandardScalerWrapper;SparseNormalizer;StandardScalerWrapper;StandardScalerWrapper;SparseNormalizer;StandardScalerWrapper;StandardScalerWrapper;MaxAbsScaler;MaxAbsScaler;TruncatedSVDWrapper;StandardScalerWrapper;SparseNormalizer;TruncatedSVDWrapper;StandardScalerWrapper;StandardScalerWrapper;TruncatedSVDWrapper;SparseNormalizer;SparseNormalizer;StandardScalerWrapper;SparseNormalizer;SparseNormalizer;SparseNormalizer;SparseNormalizer;SparseNormalizer;SparseNormalizer;StandardScalerWrapper;;;;;\", \"run_algorithm_000\": \"LightGBM;XGBoostClassifier;ExtremeRandomTrees;XGBoostClassifier;LightGBM;LightGBM;XGBoostClassifier;LogisticRegression;ExtremeRandomTrees;XGBoostClassifier;RandomForest;LogisticRegression;RandomForest;LightGBM;XGBoostClassifier;XGBoostClassifier;LogisticRegression;SGD;RandomForest;XGBoostClassifier;XGBoostClassifier;RandomForest;LogisticRegression;RandomForest;XGBoostClassifier;XGBoostClassifier;XGBoostClassifier;XGBoostClassifier;XGBoostClassifier;XGBoostClassifier;XGBoostClassifier;XGBoostClassifier;XGBoostClassifier;XGBoostClassifier;XGBoostClassifier;;;;StackEnsemble;VotingEnsemble\", \"dynamic_allowlisting_iterations\": \"<25>;<30>;<35>;\", \"_aml_system_azureml.automl_early_exit_message\": \"Experiment timeout reached, hence experiment stopped. Current experiment timeout: 0 hour(s) 20 minute(s)\", \"automl_best_child_run_id\": \"AutoML_4c7ea1c1-7479-4a9f-b8fc-77866872cc89_38\", \"model_explain_best_run_child_id\": \"AutoML_4c7ea1c1-7479-4a9f-b8fc-77866872cc89_38\"}, \"end_time_utc\": \"2024-02-01T15:03:29.34377Z\", \"status\": \"Completed\", \"log_files\": {}, \"log_groups\": [], \"run_duration\": \"0:41:15\", \"run_number\": \"1706797333\", \"run_queued_details\": {\"status\": \"Completed\", \"details\": null}}, \"child_runs\": [{\"run_id\": \"AutoML_4c7ea1c1-7479-4a9f-b8fc-77866872cc89_setup\", \"run_number\": 1706797346, \"metric\": null, \"status\": \"Completed\", \"run_type\": \"azureml.scriptrun\", \"training_percent\": null, \"start_time\": \"2024-02-01T14:28:36.226061Z\", \"end_time\": \"2024-02-01T14:33:46.986064Z\", \"created_time\": \"2024-02-01T14:22:26.892019Z\", \"created_time_dt\": \"2024-02-01T14:22:26.892019Z\", \"duration\": \"0:11:20\", \"iteration\": null, \"goal\": null, \"run_name\": \"Completed\", \"run_properties\": null}, {\"run_id\": \"AutoML_4c7ea1c1-7479-4a9f-b8fc-77866872cc89_featurize\", \"run_number\": 1706798027, \"metric\": null, \"status\": \"Completed\", \"run_type\": \"automl.featurization\", \"training_percent\": null, \"start_time\": \"2024-02-01T14:33:47.901229Z\", \"end_time\": \"2024-02-01T14:39:25.284399Z\", \"created_time\": \"2024-02-01T14:33:47.392231Z\", \"created_time_dt\": \"2024-02-01T14:33:47.392231Z\", \"duration\": \"0:05:37\", \"iteration\": null, \"goal\": null, \"run_name\": \"Completed\", \"run_properties\": null}, {\"run_id\": \"AutoML_4c7ea1c1-7479-4a9f-b8fc-77866872cc89_0\", \"run_number\": 1706798367, \"metric\": null, \"status\": \"Completed\", \"run_type\": null, \"training_percent\": \"100\", \"start_time\": \"2024-02-01T14:41:11.154161Z\", \"end_time\": \"2024-02-01T14:41:29.399417Z\", \"created_time\": \"2024-02-01T14:39:27.155496Z\", \"created_time_dt\": \"2024-02-01T14:39:27.155496Z\", \"duration\": \"0:02:02\", \"iteration\": \"0\", \"goal\": \"accuracy_max\", \"run_name\": \"MaxAbsScaler, LightGBM\", \"run_properties\": \"copy=True\", \"primary_metric\": 0.80559003, \"best_metric\": 0.80559003}, {\"run_id\": \"AutoML_4c7ea1c1-7479-4a9f-b8fc-77866872cc89_2\", \"run_number\": 1706798368, \"metric\": null, \"status\": \"Completed\", \"run_type\": null, \"training_percent\": \"100\", \"start_time\": \"2024-02-01T14:41:50.042487Z\", \"end_time\": \"2024-02-01T14:42:05.941448Z\", \"created_time\": \"2024-02-01T14:39:28.366542Z\", \"created_time_dt\": \"2024-02-01T14:39:28.366542Z\", \"duration\": \"0:02:37\", \"iteration\": \"2\", \"goal\": \"accuracy_max\", \"run_name\": \"MaxAbsScaler, ExtremeRandomTrees\", \"run_properties\": \"copy=True\", \"primary_metric\": 0.73933017, \"best_metric\": 0.80559003}, {\"run_id\": \"AutoML_4c7ea1c1-7479-4a9f-b8fc-77866872cc89_worker_0\", \"run_number\": 1706798369, \"metric\": null, \"status\": \"Completed\", \"run_type\": \"azureml.scriptrun\", \"training_percent\": null, \"start_time\": \"2024-02-01T14:40:23.905026Z\", \"end_time\": \"2024-02-01T14:43:27.217955Z\", \"created_time\": \"2024-02-01T14:39:29.604393Z\", \"created_time_dt\": \"2024-02-01T14:39:29.604393Z\", \"duration\": \"0:03:57\", \"iteration\": null, \"goal\": null, \"run_name\": \"Completed\", \"run_properties\": null}, {\"run_id\": \"AutoML_4c7ea1c1-7479-4a9f-b8fc-77866872cc89_6\", \"run_number\": 1706798370, \"metric\": null, \"status\": \"Completed\", \"run_type\": null, \"training_percent\": \"100\", \"start_time\": \"2024-02-01T14:45:26.489409Z\", \"end_time\": \"2024-02-01T14:45:39.865576Z\", \"created_time\": \"2024-02-01T14:39:30.376114Z\", \"created_time_dt\": \"2024-02-01T14:39:30.376114Z\", \"duration\": \"0:06:09\", \"iteration\": \"6\", \"goal\": \"accuracy_max\", \"run_name\": \"StandardScalerWrapper, XGBoostClassifier\", \"run_properties\": \"copy=True, with_mean=False, with_std=False\", \"primary_metric\": 0.78856399, \"best_metric\": 0.80559003}, {\"run_id\": \"AutoML_4c7ea1c1-7479-4a9f-b8fc-77866872cc89_7\", \"run_number\": 1706798371, \"metric\": null, \"status\": \"Completed\", \"run_type\": null, \"training_percent\": \"100\", \"start_time\": \"2024-02-01T14:45:40.869179Z\", \"end_time\": \"2024-02-01T14:45:56.146917Z\", \"created_time\": \"2024-02-01T14:39:31.02328Z\", \"created_time_dt\": \"2024-02-01T14:39:31.02328Z\", \"duration\": \"0:06:25\", \"iteration\": \"7\", \"goal\": \"accuracy_max\", \"run_name\": \"MaxAbsScaler, LogisticRegression\", \"run_properties\": \"copy=True\", \"primary_metric\": 0.78499806, \"best_metric\": 0.80559003}, {\"run_id\": \"AutoML_4c7ea1c1-7479-4a9f-b8fc-77866872cc89_worker_1\", \"run_number\": 1706798372, \"metric\": null, \"status\": \"Completed\", \"run_type\": \"azureml.scriptrun\", \"training_percent\": null, \"start_time\": \"2024-02-01T14:43:39.670888Z\", \"end_time\": \"2024-02-01T14:46:42.978165Z\", \"created_time\": \"2024-02-01T14:39:32.191217Z\", \"created_time_dt\": \"2024-02-01T14:39:32.191217Z\", \"duration\": \"0:07:10\", \"iteration\": null, \"goal\": null, \"run_name\": \"Completed\", \"run_properties\": null}, {\"run_id\": \"AutoML_4c7ea1c1-7479-4a9f-b8fc-77866872cc89_12\", \"run_number\": 1706798373, \"metric\": null, \"status\": \"Completed\", \"run_type\": null, \"training_percent\": \"100\", \"start_time\": \"2024-02-01T14:50:37.743804Z\", \"end_time\": \"2024-02-01T14:50:51.470258Z\", \"created_time\": \"2024-02-01T14:39:33.38544Z\", \"created_time_dt\": \"2024-02-01T14:39:33.38544Z\", \"duration\": \"0:11:18\", \"iteration\": \"12\", \"goal\": \"accuracy_max\", \"run_name\": \"MaxAbsScaler, LogisticRegression\", \"run_properties\": \"copy=True\", \"primary_metric\": 0.79477472, \"best_metric\": 0.80559003}, {\"run_id\": \"AutoML_4c7ea1c1-7479-4a9f-b8fc-77866872cc89_worker_2\", \"run_number\": 1706798374, \"metric\": null, \"status\": \"Completed\", \"run_type\": \"azureml.scriptrun\", \"training_percent\": null, \"start_time\": \"2024-02-01T14:45:27.952435Z\", \"end_time\": \"2024-02-01T14:51:45.087012Z\", \"created_time\": \"2024-02-01T14:39:34.675696Z\", \"created_time_dt\": \"2024-02-01T14:39:34.675696Z\", \"duration\": \"0:12:10\", \"iteration\": null, \"goal\": null, \"run_name\": \"Completed\", \"run_properties\": null}, {\"run_id\": \"AutoML_4c7ea1c1-7479-4a9f-b8fc-77866872cc89_16\", \"run_number\": 1706798375, \"metric\": null, \"status\": \"Completed\", \"run_type\": null, \"training_percent\": \"100\", \"start_time\": \"2024-02-01T14:49:54.621993Z\", \"end_time\": \"2024-02-01T14:50:07.726365Z\", \"created_time\": \"2024-02-01T14:39:35.309448Z\", \"created_time_dt\": \"2024-02-01T14:39:35.309448Z\", \"duration\": \"0:10:32\", \"iteration\": \"16\", \"goal\": \"accuracy_max\", \"run_name\": \"StandardScalerWrapper, LogisticRegression\", \"run_properties\": \"copy=True, with_mean=False, with_std=False\", \"primary_metric\": 0.79305005, \"best_metric\": 0.80559003}, {\"run_id\": \"AutoML_4c7ea1c1-7479-4a9f-b8fc-77866872cc89_worker_3\", \"run_number\": 1706798376, \"metric\": null, \"status\": \"Completed\", \"run_type\": \"azureml.scriptrun\", \"training_percent\": null, \"start_time\": \"2024-02-01T14:45:27.791272Z\", \"end_time\": \"2024-02-01T14:51:25.169217Z\", \"created_time\": \"2024-02-01T14:39:36.935086Z\", \"created_time_dt\": \"2024-02-01T14:39:36.935086Z\", \"duration\": \"0:11:48\", \"iteration\": null, \"goal\": null, \"run_name\": \"Completed\", \"run_properties\": null}, {\"run_id\": \"AutoML_4c7ea1c1-7479-4a9f-b8fc-77866872cc89_20\", \"run_number\": 1706799054, \"metric\": null, \"status\": \"Completed\", \"run_type\": \"azureml.scriptrun\", \"training_percent\": \"100\", \"start_time\": \"2024-02-01T14:51:49.67241Z\", \"end_time\": \"2024-02-01T14:53:40.009048Z\", \"created_time\": \"2024-02-01T14:50:54.515762Z\", \"created_time_dt\": \"2024-02-01T14:50:54.515762Z\", \"duration\": \"0:02:45\", \"iteration\": \"20\", \"goal\": \"accuracy_max\", \"run_name\": \"TruncatedSVDWrapper, RandomForest\", \"run_properties\": \"n_components=0.7026315789473684, random_state=None\", \"primary_metric\": 0.78683998, \"best_metric\": 0.80559003}, {\"run_id\": \"AutoML_4c7ea1c1-7479-4a9f-b8fc-77866872cc89_22\", \"run_number\": 1706799139, \"metric\": null, \"status\": \"Completed\", \"run_type\": \"azureml.scriptrun\", \"training_percent\": \"100\", \"start_time\": \"2024-02-01T14:52:49.016048Z\", \"end_time\": \"2024-02-01T14:53:31.954587Z\", \"created_time\": \"2024-02-01T14:52:19.91375Z\", \"created_time_dt\": \"2024-02-01T14:52:19.91375Z\", \"duration\": \"0:01:12\", \"iteration\": \"22\", \"goal\": \"accuracy_max\", \"run_name\": \"SparseNormalizer, XGBoostClassifier\", \"run_properties\": \"copy=True, norm='l1'\", \"primary_metric\": 0.80455508, \"best_metric\": 0.80559003}, {\"run_id\": \"AutoML_4c7ea1c1-7479-4a9f-b8fc-77866872cc89_24\", \"run_number\": 1706799214, \"metric\": null, \"status\": \"Completed\", \"run_type\": \"azureml.scriptrun\", \"training_percent\": \"100\", \"start_time\": \"2024-02-01T14:54:02.548542Z\", \"end_time\": \"2024-02-01T14:55:02.782104Z\", \"created_time\": \"2024-02-01T14:53:34.333925Z\", \"created_time_dt\": \"2024-02-01T14:53:34.333925Z\", \"duration\": \"0:01:28\", \"iteration\": \"24\", \"goal\": \"accuracy_max\", \"run_name\": \"StandardScalerWrapper, RandomForest\", \"run_properties\": \"copy=True, with_mean=False, with_std=False\", \"primary_metric\": 0.74278023, \"best_metric\": 0.80559003}, {\"run_id\": \"AutoML_4c7ea1c1-7479-4a9f-b8fc-77866872cc89_25\", \"run_number\": 1706799222, \"metric\": null, \"status\": \"Completed\", \"run_type\": \"azureml.scriptrun\", \"training_percent\": \"100\", \"start_time\": \"2024-02-01T14:54:05.750254Z\", \"end_time\": \"2024-02-01T14:55:44.673766Z\", \"created_time\": \"2024-02-01T14:53:42.193354Z\", \"created_time_dt\": \"2024-02-01T14:53:42.193354Z\", \"duration\": \"0:02:02\", \"iteration\": \"25\", \"goal\": \"accuracy_max\", \"run_name\": \"TruncatedSVDWrapper, XGBoostClassifier\", \"run_properties\": \"n_components=0.01, random_state=None\", \"primary_metric\": 0.73127718, \"best_metric\": 0.80559003}, {\"run_id\": \"AutoML_4c7ea1c1-7479-4a9f-b8fc-77866872cc89_26\", \"run_number\": 1706799249, \"metric\": null, \"status\": \"Completed\", \"run_type\": \"azureml.scriptrun\", \"training_percent\": \"100\", \"start_time\": \"2024-02-01T14:54:36.156829Z\", \"end_time\": \"2024-02-01T14:56:03.682641Z\", \"created_time\": \"2024-02-01T14:54:09.654031Z\", \"created_time_dt\": \"2024-02-01T14:54:09.654031Z\", \"duration\": \"0:01:54\", \"iteration\": \"26\", \"goal\": \"accuracy_max\", \"run_name\": \"SparseNormalizer, XGBoostClassifier\", \"run_properties\": \"copy=True, norm='max'\", \"primary_metric\": 0.79558276, \"best_metric\": 0.80559003}, {\"run_id\": \"AutoML_4c7ea1c1-7479-4a9f-b8fc-77866872cc89_27\", \"run_number\": 1706799304, \"metric\": null, \"status\": \"Completed\", \"run_type\": \"azureml.scriptrun\", \"training_percent\": \"100\", \"start_time\": \"2024-02-01T14:55:30.577251Z\", \"end_time\": \"2024-02-01T14:56:21.654348Z\", \"created_time\": \"2024-02-01T14:55:04.201678Z\", \"created_time_dt\": \"2024-02-01T14:55:04.201678Z\", \"duration\": \"0:01:17\", \"iteration\": \"27\", \"goal\": \"accuracy_max\", \"run_name\": \"SparseNormalizer, XGBoostClassifier\", \"run_properties\": \"copy=True, norm='l2'\", \"primary_metric\": 0.78522874, \"best_metric\": 0.80559003}, {\"run_id\": \"AutoML_4c7ea1c1-7479-4a9f-b8fc-77866872cc89_28\", \"run_number\": 1706799346, \"metric\": null, \"status\": \"Completed\", \"run_type\": \"azureml.scriptrun\", \"training_percent\": \"100\", \"start_time\": \"2024-02-01T14:56:13.073361Z\", \"end_time\": \"2024-02-01T14:57:40.192601Z\", \"created_time\": \"2024-02-01T14:55:46.140045Z\", \"created_time_dt\": \"2024-02-01T14:55:46.140045Z\", \"duration\": \"0:01:54\", \"iteration\": \"28\", \"goal\": \"accuracy_max\", \"run_name\": \"SparseNormalizer, XGBoostClassifier\", \"run_properties\": \"copy=True, norm='l2'\", \"primary_metric\": 0.79776818, \"best_metric\": 0.80559003}, {\"run_id\": \"AutoML_4c7ea1c1-7479-4a9f-b8fc-77866872cc89_29\", \"run_number\": 1706799365, \"metric\": null, \"status\": \"Completed\", \"run_type\": \"azureml.scriptrun\", \"training_percent\": \"100\", \"start_time\": \"2024-02-01T14:56:38.113509Z\", \"end_time\": \"2024-02-01T14:57:28.864495Z\", \"created_time\": \"2024-02-01T14:56:05.189098Z\", \"created_time_dt\": \"2024-02-01T14:56:05.189098Z\", \"duration\": \"0:01:23\", \"iteration\": \"29\", \"goal\": \"accuracy_max\", \"run_name\": \"SparseNormalizer, XGBoostClassifier\", \"run_properties\": \"copy=True, norm='l1'\", \"primary_metric\": 0.81283762, \"best_metric\": 0.81283762}, {\"run_id\": \"AutoML_4c7ea1c1-7479-4a9f-b8fc-77866872cc89_30\", \"run_number\": 1706799383, \"metric\": null, \"status\": \"Completed\", \"run_type\": \"azureml.scriptrun\", \"training_percent\": \"100\", \"start_time\": \"2024-02-01T14:56:47.067937Z\", \"end_time\": \"2024-02-01T14:57:45.92229Z\", \"created_time\": \"2024-02-01T14:56:23.976443Z\", \"created_time_dt\": \"2024-02-01T14:56:23.976443Z\", \"duration\": \"0:01:21\", \"iteration\": \"30\", \"goal\": \"accuracy_max\", \"run_name\": \"SparseNormalizer, XGBoostClassifier\", \"run_properties\": \"copy=True, norm='max'\", \"primary_metric\": 0.50362357, \"best_metric\": 0.81283762}, {\"run_id\": \"AutoML_4c7ea1c1-7479-4a9f-b8fc-77866872cc89_31\", \"run_number\": 1706799401, \"metric\": null, \"status\": \"Completed\", \"run_type\": \"azureml.scriptrun\", \"training_percent\": \"100\", \"start_time\": \"2024-02-01T14:57:16.19586Z\", \"end_time\": \"2024-02-01T14:58:50.516471Z\", \"created_time\": \"2024-02-01T14:56:41.575538Z\", \"created_time_dt\": \"2024-02-01T14:56:41.575538Z\", \"duration\": \"0:02:08\", \"iteration\": \"31\", \"goal\": \"accuracy_max\", \"run_name\": \"SparseNormalizer, XGBoostClassifier\", \"run_properties\": \"copy=True, norm='l2'\", \"primary_metric\": 0.8035202, \"best_metric\": 0.81283762}, {\"run_id\": \"AutoML_4c7ea1c1-7479-4a9f-b8fc-77866872cc89_32\", \"run_number\": 1706799450, \"metric\": null, \"status\": \"Completed\", \"run_type\": \"azureml.scriptrun\", \"training_percent\": \"100\", \"start_time\": \"2024-02-01T14:57:53.706806Z\", \"end_time\": \"2024-02-01T14:58:50.266095Z\", \"created_time\": \"2024-02-01T14:57:30.174444Z\", \"created_time_dt\": \"2024-02-01T14:57:30.174444Z\", \"duration\": \"0:01:20\", \"iteration\": \"32\", \"goal\": \"accuracy_max\", \"run_name\": \"SparseNormalizer, XGBoostClassifier\", \"run_properties\": \"copy=True, norm='l1'\", \"primary_metric\": 0.80133339, \"best_metric\": 0.81283762}, {\"run_id\": \"AutoML_4c7ea1c1-7479-4a9f-b8fc-77866872cc89_33\", \"run_number\": 1706799461, \"metric\": null, \"status\": \"Completed\", \"run_type\": \"azureml.scriptrun\", \"training_percent\": \"100\", \"start_time\": \"2024-02-01T14:58:13.294475Z\", \"end_time\": \"2024-02-01T14:58:59.478485Z\", \"created_time\": \"2024-02-01T14:57:41.609351Z\", \"created_time_dt\": \"2024-02-01T14:57:41.609351Z\", \"duration\": \"0:01:17\", \"iteration\": \"33\", \"goal\": \"accuracy_max\", \"run_name\": \"SparseNormalizer, XGBoostClassifier\", \"run_properties\": \"copy=True, norm='l1'\", \"primary_metric\": 0.81042257, \"best_metric\": 0.81283762}, {\"run_id\": \"AutoML_4c7ea1c1-7479-4a9f-b8fc-77866872cc89_34\", \"run_number\": 1706799467, \"metric\": null, \"status\": \"Completed\", \"run_type\": \"azureml.scriptrun\", \"training_percent\": \"100\", \"start_time\": \"2024-02-01T14:58:15.854378Z\", \"end_time\": \"2024-02-01T14:59:28.769086Z\", \"created_time\": \"2024-02-01T14:57:47.307715Z\", \"created_time_dt\": \"2024-02-01T14:57:47.307715Z\", \"duration\": \"0:01:41\", \"iteration\": \"34\", \"goal\": \"accuracy_max\", \"run_name\": \"StandardScalerWrapper, XGBoostClassifier\", \"run_properties\": \"copy=True, with_mean=False, with_std=False\", \"primary_metric\": 0.74163008, \"best_metric\": 0.81283762}, {\"run_id\": \"AutoML_4c7ea1c1-7479-4a9f-b8fc-77866872cc89_35\", \"run_number\": 1706799532, \"metric\": null, \"status\": \"Canceled\", \"run_type\": \"azureml.scriptrun\", \"training_percent\": \"100\", \"start_time\": \"2024-02-01T14:59:24.69339Z\", \"end_time\": \"2024-02-01T14:59:35.694854Z\", \"created_time\": \"2024-02-01T14:58:52.894929Z\", \"created_time_dt\": \"2024-02-01T14:58:52.894929Z\", \"duration\": \"0:00:42\", \"iteration\": \"35\", \"goal\": null, \"run_name\": \"Canceled\", \"run_properties\": null}, {\"run_id\": \"AutoML_4c7ea1c1-7479-4a9f-b8fc-77866872cc89_37\", \"run_number\": 1706799541, \"metric\": null, \"status\": \"Canceled\", \"run_type\": \"azureml.scriptrun\", \"training_percent\": \"100\", \"start_time\": \"2024-02-01T14:59:25.562732Z\", \"end_time\": \"2024-02-01T14:59:35.500425Z\", \"created_time\": \"2024-02-01T14:59:01.193551Z\", \"created_time_dt\": \"2024-02-01T14:59:01.193551Z\", \"duration\": \"0:00:34\", \"iteration\": \"37\", \"goal\": null, \"run_name\": \"Canceled\", \"run_properties\": null}, {\"run_id\": \"AutoML_4c7ea1c1-7479-4a9f-b8fc-77866872cc89_38\", \"run_number\": 1706799576, \"metric\": null, \"status\": \"Completed\", \"run_type\": \"azureml.scriptrun\", \"training_percent\": \"100\", \"start_time\": \"2024-02-01T15:00:06.536484Z\", \"end_time\": \"2024-02-01T15:03:28.247678Z\", \"created_time\": \"2024-02-01T14:59:36.724483Z\", \"created_time_dt\": \"2024-02-01T14:59:36.724483Z\", \"duration\": \"0:03:51\", \"iteration\": \"38\", \"goal\": \"accuracy_max\", \"run_name\": \"VotingEnsemble\", \"run_properties\": \"classification_labels=numpy.array([0, 1]\", \"primary_metric\": 0.8178986, \"best_metric\": 0.8178986}], \"children_metrics\": {\"categories\": [0], \"series\": {\"matthews_correlation\": [{\"categories\": [\"0\", \"2\", \"6\", \"7\", \"12\", \"16\", \"20\", \"22\", \"24\", \"25\", \"26\", \"27\", \"28\", \"29\", \"30\", \"31\", \"32\", \"33\", \"34\", \"38\"], \"mode\": \"markers\", \"name\": \"matthews_correlation\", \"stepped\": false, \"type\": \"scatter\", \"data\": [0.6112247750760503, 0.488790702597065, 0.5774269841822617, 0.5706275006100046, 0.5897773162054313, 0.5861121089869764, 0.573810200372803, 0.6095481330585483, 0.49564498101067134, 0.4658366273774856, 0.5917188756758156, 0.570740693078948, 0.5958613098623223, 0.6256654610752858, 0.0, 0.6072792002790132, 0.6026927161684699, 0.6208485839048474, 0.4974795122985488, 0.635856123107378]}, {\"categories\": [\"0\", \"2\", \"6\", \"7\", \"12\", \"16\", \"20\", \"22\", \"24\", \"25\", \"26\", \"27\", \"28\", \"29\", \"30\", \"31\", \"32\", \"33\", \"34\", \"38\"], \"mode\": \"lines\", \"name\": \"matthews_correlation_max\", \"stepped\": true, \"type\": \"scatter\", \"data\": [0.6112247750760503, 0.6112247750760503, 0.6112247750760503, 0.6112247750760503, 0.6112247750760503, 0.6112247750760503, 0.6112247750760503, 0.6112247750760503, 0.6112247750760503, 0.6112247750760503, 0.6112247750760503, 0.6112247750760503, 0.6112247750760503, 0.6256654610752858, 0.6256654610752858, 0.6256654610752858, 0.6256654610752858, 0.6256654610752858, 0.6256654610752858, 0.635856123107378]}], \"recall_score_weighted\": [{\"categories\": [\"0\", \"2\", \"6\", \"7\", \"12\", \"16\", \"20\", \"22\", \"24\", \"25\", \"26\", \"27\", \"28\", \"29\", \"30\", \"31\", \"32\", \"33\", \"34\", \"38\"], \"mode\": \"markers\", \"name\": \"recall_score_weighted\", \"stepped\": false, \"type\": \"scatter\", \"data\": [0.8055900279977845, 0.7393301707064163, 0.788563986948043, 0.7849980578232665, 0.7947747174248655, 0.7930500512509668, 0.7868399825038661, 0.8045550827129067, 0.7427802309569074, 0.7312771846841333, 0.7955827555881422, 0.7852287368042822, 0.7977681841673223, 0.8128376227756782, 0.5036235657835443, 0.8035202036010007, 0.8013333853894048, 0.8104225739830373, 0.7416300785274661, 0.8178985978608925]}, {\"categories\": [\"0\", \"2\", \"6\", \"7\", \"12\", \"16\", \"20\", \"22\", \"24\", \"25\", \"26\", \"27\", \"28\", \"29\", \"30\", \"31\", \"32\", \"33\", \"34\", \"38\"], \"mode\": \"lines\", \"name\": \"recall_score_weighted_max\", \"stepped\": true, \"type\": \"scatter\", \"data\": [0.8055900279977845, 0.8055900279977845, 0.8055900279977845, 0.8055900279977845, 0.8055900279977845, 0.8055900279977845, 0.8055900279977845, 0.8055900279977845, 0.8055900279977845, 0.8055900279977845, 0.8055900279977845, 0.8055900279977845, 0.8055900279977845, 0.8128376227756782, 0.8128376227756782, 0.8128376227756782, 0.8128376227756782, 0.8128376227756782, 0.8128376227756782, 0.8178985978608925]}], \"recall_score_macro\": [{\"categories\": [\"0\", \"2\", \"6\", \"7\", \"12\", \"16\", \"20\", \"22\", \"24\", \"25\", \"26\", \"27\", \"28\", \"29\", \"30\", \"31\", \"32\", \"33\", \"34\", \"38\"], \"mode\": \"markers\", \"name\": \"recall_score_macro\", \"stepped\": false, \"type\": \"scatter\", \"data\": [0.8055942603187676, 0.7399063061327014, 0.7886117108077197, 0.7851246617805259, 0.79464654588181, 0.7929472401932537, 0.7868734655224692, 0.8046266444609138, 0.7432690939899202, 0.7316831697318393, 0.7956521588825183, 0.7852505309188273, 0.7978376902313636, 0.8128054314571758, 0.5, 0.8036028682258524, 0.8012290959805446, 0.8104085078702953, 0.7424163062905575, 0.8178506431077992]}, {\"categories\": [\"0\", \"2\", \"6\", \"7\", \"12\", \"16\", \"20\", \"22\", \"24\", \"25\", \"26\", \"27\", \"28\", \"29\", \"30\", \"31\", \"32\", \"33\", \"34\", \"38\"], \"mode\": \"lines\", \"name\": \"recall_score_macro_max\", \"stepped\": true, \"type\": \"scatter\", \"data\": [0.8055942603187676, 0.8055942603187676, 0.8055942603187676, 0.8055942603187676, 0.8055942603187676, 0.8055942603187676, 0.8055942603187676, 0.8055942603187676, 0.8055942603187676, 0.8055942603187676, 0.8055942603187676, 0.8055942603187676, 0.8055942603187676, 0.8128054314571758, 0.8128054314571758, 0.8128054314571758, 0.8128054314571758, 0.8128054314571758, 0.8128054314571758, 0.8178506431077992]}], \"recall_score_micro\": [{\"categories\": [\"0\", \"2\", \"6\", \"7\", \"12\", \"16\", \"20\", \"22\", \"24\", \"25\", \"26\", \"27\", \"28\", \"29\", \"30\", \"31\", \"32\", \"33\", \"34\", \"38\"], \"mode\": \"markers\", \"name\": \"recall_score_micro\", \"stepped\": false, \"type\": \"scatter\", \"data\": [0.8055900279977845, 0.7393301707064163, 0.788563986948043, 0.7849980578232665, 0.7947747174248655, 0.7930500512509668, 0.7868399825038661, 0.8045550827129067, 0.7427802309569074, 0.7312771846841333, 0.7955827555881422, 0.7852287368042822, 0.7977681841673223, 0.8128376227756782, 0.5036235657835443, 0.8035202036010007, 0.8013333853894048, 0.8104225739830373, 0.7416300785274661, 0.8178985978608925]}, {\"categories\": [\"0\", \"2\", \"6\", \"7\", \"12\", \"16\", \"20\", \"22\", \"24\", \"25\", \"26\", \"27\", \"28\", \"29\", \"30\", \"31\", \"32\", \"33\", \"34\", \"38\"], \"mode\": \"lines\", \"name\": \"recall_score_micro_max\", \"stepped\": true, \"type\": \"scatter\", \"data\": [0.8055900279977845, 0.8055900279977845, 0.8055900279977845, 0.8055900279977845, 0.8055900279977845, 0.8055900279977845, 0.8055900279977845, 0.8055900279977845, 0.8055900279977845, 0.8055900279977845, 0.8055900279977845, 0.8055900279977845, 0.8055900279977845, 0.8128376227756782, 0.8128376227756782, 0.8128376227756782, 0.8128376227756782, 0.8128376227756782, 0.8128376227756782, 0.8178985978608925]}], \"average_precision_score_micro\": [{\"categories\": [\"0\", \"2\", \"6\", \"7\", \"12\", \"16\", \"20\", \"22\", \"24\", \"25\", \"26\", \"27\", \"28\", \"29\", \"30\", \"31\", \"32\", \"33\", \"34\", \"38\"], \"mode\": \"markers\", \"name\": \"average_precision_score_micro\", \"stepped\": false, \"type\": \"scatter\", \"data\": [0.9042626186288091, 0.8146930974160222, 0.8831534017045675, 0.8757670767086866, 0.8846507376661034, 0.8763223085379408, 0.8806308139450525, 0.8996447426497116, 0.8204956739147657, 0.8074211075480633, 0.8874147135998458, 0.8782083941161714, 0.8937428126574218, 0.9042504466307364, 0.5018486114255656, 0.8985403457161818, 0.8965831891826385, 0.9032672420108281, 0.8214561426722131, 0.9047186894981701]}, {\"categories\": [\"0\", \"2\", \"6\", \"7\", \"12\", \"16\", \"20\", \"22\", \"24\", \"25\", \"26\", \"27\", \"28\", \"29\", \"30\", \"31\", \"32\", \"33\", \"34\", \"38\"], \"mode\": \"lines\", \"name\": \"average_precision_score_micro_max\", \"stepped\": true, \"type\": \"scatter\", \"data\": [0.9042626186288091, 0.9042626186288091, 0.9042626186288091, 0.9042626186288091, 0.9042626186288091, 0.9042626186288091, 0.9042626186288091, 0.9042626186288091, 0.9042626186288091, 0.9042626186288091, 0.9042626186288091, 0.9042626186288091, 0.9042626186288091, 0.9042626186288091, 0.9042626186288091, 0.9042626186288091, 0.9042626186288091, 0.9042626186288091, 0.9042626186288091, 0.9047186894981701]}], \"norm_macro_recall\": [{\"categories\": [\"0\", \"2\", \"6\", \"7\", \"12\", \"16\", \"20\", \"22\", \"24\", \"25\", \"26\", \"27\", \"28\", \"29\", \"30\", \"31\", \"32\", \"33\", \"34\", \"38\"], \"mode\": \"markers\", \"name\": \"norm_macro_recall\", \"stepped\": false, \"type\": \"scatter\", \"data\": [0.6111885206375351, 0.4798126122654027, 0.5772234216154393, 0.570249323561052, 0.5892930917636201, 0.5858944803865074, 0.5737469310449382, 0.6092532889218277, 0.4865381879798404, 0.4633663394636788, 0.5913043177650366, 0.5705010618376547, 0.595675380462727, 0.6256108629143518, 0.0, 0.6072057364517047, 0.602458191961089, 0.6208170157405906, 0.4848326125811152, 0.6357012862155982]}, {\"categories\": [\"0\", \"2\", \"6\", \"7\", \"12\", \"16\", \"20\", \"22\", \"24\", \"25\", \"26\", \"27\", \"28\", \"29\", \"30\", \"31\", \"32\", \"33\", \"34\", \"38\"], \"mode\": \"lines\", \"name\": \"norm_macro_recall_max\", \"stepped\": true, \"type\": \"scatter\", \"data\": [0.6111885206375351, 0.6111885206375351, 0.6111885206375351, 0.6111885206375351, 0.6111885206375351, 0.6111885206375351, 0.6111885206375351, 0.6111885206375351, 0.6111885206375351, 0.6111885206375351, 0.6111885206375351, 0.6111885206375351, 0.6111885206375351, 0.6256108629143518, 0.6256108629143518, 0.6256108629143518, 0.6256108629143518, 0.6256108629143518, 0.6256108629143518, 0.6357012862155982]}], \"average_precision_score_weighted\": [{\"categories\": [\"0\", \"2\", \"6\", \"7\", \"12\", \"16\", \"20\", \"22\", \"24\", \"25\", \"26\", \"27\", \"28\", \"29\", \"30\", \"31\", \"32\", \"33\", \"34\", \"38\"], \"mode\": \"markers\", \"name\": \"average_precision_score_weighted\", \"stepped\": false, \"type\": \"scatter\", \"data\": [0.8996346336413706, 0.7980294404744858, 0.8761404207568673, 0.8746329883350967, 0.8853654091623941, 0.8790102653054314, 0.874749924823518, 0.8958900674712236, 0.8167822248252451, 0.7902339523814094, 0.8844099265282572, 0.8746523063240984, 0.8903270006527174, 0.9009440340148183, 0.5000736570675869, 0.893970281931546, 0.8915141791267788, 0.9003100351869392, 0.8148635623055134, 0.9014454076624325]}, {\"categories\": [\"0\", \"2\", \"6\", \"7\", \"12\", \"16\", \"20\", \"22\", \"24\", \"25\", \"26\", \"27\", \"28\", \"29\", \"30\", \"31\", \"32\", \"33\", \"34\", \"38\"], \"mode\": \"lines\", \"name\": \"average_precision_score_weighted_max\", \"stepped\": true, \"type\": \"scatter\", \"data\": [0.8996346336413706, 0.8996346336413706, 0.8996346336413706, 0.8996346336413706, 0.8996346336413706, 0.8996346336413706, 0.8996346336413706, 0.8996346336413706, 0.8996346336413706, 0.8996346336413706, 0.8996346336413706, 0.8996346336413706, 0.8996346336413706, 0.9009440340148183, 0.9009440340148183, 0.9009440340148183, 0.9009440340148183, 0.9009440340148183, 0.9009440340148183, 0.9014454076624325]}], \"accuracy\": [{\"categories\": [\"0\", \"2\", \"6\", \"7\", \"12\", \"16\", \"20\", \"22\", \"24\", \"25\", \"26\", \"27\", \"28\", \"29\", \"30\", \"31\", \"32\", \"33\", \"34\", \"38\"], \"mode\": \"markers\", \"name\": \"accuracy\", \"stepped\": false, \"type\": \"scatter\", \"data\": [0.8055900279977845, 0.7393301707064163, 0.788563986948043, 0.7849980578232665, 0.7947747174248655, 0.7930500512509668, 0.7868399825038661, 0.8045550827129067, 0.7427802309569074, 0.7312771846841333, 0.7955827555881422, 0.7852287368042822, 0.7977681841673223, 0.8128376227756782, 0.5036235657835443, 0.8035202036010007, 0.8013333853894048, 0.8104225739830373, 0.7416300785274661, 0.8178985978608925]}, {\"categories\": [\"0\", \"2\", \"6\", \"7\", \"12\", \"16\", \"20\", \"22\", \"24\", \"25\", \"26\", \"27\", \"28\", \"29\", \"30\", \"31\", \"32\", \"33\", \"34\", \"38\"], \"mode\": \"lines\", \"name\": \"accuracy_max\", \"stepped\": true, \"type\": \"scatter\", \"data\": [0.8055900279977845, 0.8055900279977845, 0.8055900279977845, 0.8055900279977845, 0.8055900279977845, 0.8055900279977845, 0.8055900279977845, 0.8055900279977845, 0.8055900279977845, 0.8055900279977845, 0.8055900279977845, 0.8055900279977845, 0.8055900279977845, 0.8128376227756782, 0.8128376227756782, 0.8128376227756782, 0.8128376227756782, 0.8128376227756782, 0.8128376227756782, 0.8178985978608925]}], \"AUC_micro\": [{\"categories\": [\"0\", \"2\", \"6\", \"7\", \"12\", \"16\", \"20\", \"22\", \"24\", \"25\", \"26\", \"27\", \"28\", \"29\", \"30\", \"31\", \"32\", \"33\", \"34\", \"38\"], \"mode\": \"markers\", \"name\": \"AUC_micro\", \"stepped\": false, \"type\": \"scatter\", \"data\": [0.9008621822365243, 0.8104974579345237, 0.8811117291495828, 0.8731540130008689, 0.8831836469875093, 0.8770579989996843, 0.8789104133258494, 0.8972210981692044, 0.821557477988202, 0.8073970880237382, 0.8857674525595185, 0.8756976891502026, 0.8916327871557321, 0.9016682749298062, 0.5036235657835443, 0.8955787600170565, 0.89493832762844, 0.9010894344200899, 0.8297902218059908, 0.903039922607471]}, {\"categories\": [\"0\", \"2\", \"6\", \"7\", \"12\", \"16\", \"20\", \"22\", \"24\", \"25\", \"26\", \"27\", \"28\", \"29\", \"30\", \"31\", \"32\", \"33\", \"34\", \"38\"], \"mode\": \"lines\", \"name\": \"AUC_micro_max\", \"stepped\": true, \"type\": \"scatter\", \"data\": [0.9008621822365243, 0.9008621822365243, 0.9008621822365243, 0.9008621822365243, 0.9008621822365243, 0.9008621822365243, 0.9008621822365243, 0.9008621822365243, 0.9008621822365243, 0.9008621822365243, 0.9008621822365243, 0.9008621822365243, 0.9008621822365243, 0.9016682749298062, 0.9016682749298062, 0.9016682749298062, 0.9016682749298062, 0.9016682749298062, 0.9016682749298062, 0.903039922607471]}], \"weighted_accuracy\": [{\"categories\": [\"0\", \"2\", \"6\", \"7\", \"12\", \"16\", \"20\", \"22\", \"24\", \"25\", \"26\", \"27\", \"28\", \"29\", \"30\", \"31\", \"32\", \"33\", \"34\", \"38\"], \"mode\": \"markers\", \"name\": \"weighted_accuracy\", \"stepped\": false, \"type\": \"scatter\", \"data\": [0.8055857752505003, 0.738754494594459, 0.7885162592273974, 0.7848715409324605, 0.7949027420402069, 0.7931527627485998, 0.7868065211133317, 0.8044835611445427, 0.742291688507664, 0.7308715296080994, 0.7955133687452566, 0.7852069079845385, 0.7976986964897614, 0.8128697580606261, 0.507244219440419, 0.8034375951706012, 0.8014375603146311, 0.8104366227341091, 0.7408444831867061, 0.8179464852861479]}, {\"categories\": [\"0\", \"2\", \"6\", \"7\", \"12\", \"16\", \"20\", \"22\", \"24\", \"25\", \"26\", \"27\", \"28\", \"29\", \"30\", \"31\", \"32\", \"33\", \"34\", \"38\"], \"mode\": \"lines\", \"name\": \"weighted_accuracy_max\", \"stepped\": true, \"type\": \"scatter\", \"data\": [0.8055857752505003, 0.8055857752505003, 0.8055857752505003, 0.8055857752505003, 0.8055857752505003, 0.8055857752505003, 0.8055857752505003, 0.8055857752505003, 0.8055857752505003, 0.8055857752505003, 0.8055857752505003, 0.8055857752505003, 0.8055857752505003, 0.8128697580606261, 0.8128697580606261, 0.8128697580606261, 0.8128697580606261, 0.8128697580606261, 0.8128697580606261, 0.8179464852861479]}], \"f1_score_weighted\": [{\"categories\": [\"0\", \"2\", \"6\", \"7\", \"12\", \"16\", \"20\", \"22\", \"24\", \"25\", \"26\", \"27\", \"28\", \"29\", \"30\", \"31\", \"32\", \"33\", \"34\", \"38\"], \"mode\": \"markers\", \"name\": \"f1_score_weighted\", \"stepped\": false, \"type\": \"scatter\", \"data\": [0.8055841328767788, 0.7368685749492662, 0.7885237642808921, 0.7849251876049801, 0.7946966610916867, 0.7930142780027218, 0.7868272995370007, 0.8045055269328095, 0.7403401165584971, 0.7305622999554648, 0.7955082183614014, 0.7851817054827191, 0.7977347272970665, 0.8128301962106625, 0.3373811990411256, 0.8035067580853766, 0.8012985174927459, 0.8104179185290841, 0.738321200038631, 0.8178770111399427]}, {\"categories\": [\"0\", \"2\", \"6\", \"7\", \"12\", \"16\", \"20\", \"22\", \"24\", \"25\", \"26\", \"27\", \"28\", \"29\", \"30\", \"31\", \"32\", \"33\", \"34\", \"38\"], \"mode\": \"lines\", \"name\": \"f1_score_weighted_max\", \"stepped\": true, \"type\": \"scatter\", \"data\": [0.8055841328767788, 0.8055841328767788, 0.8055841328767788, 0.8055841328767788, 0.8055841328767788, 0.8055841328767788, 0.8055841328767788, 0.8055841328767788, 0.8055841328767788, 0.8055841328767788, 0.8055841328767788, 0.8055841328767788, 0.8055841328767788, 0.8128301962106625, 0.8128301962106625, 0.8128301962106625, 0.8128301962106625, 0.8128301962106625, 0.8128301962106625, 0.8178770111399427]}], \"f1_score_macro\": [{\"categories\": [\"0\", \"2\", \"6\", \"7\", \"12\", \"16\", \"20\", \"22\", \"24\", \"25\", \"26\", \"27\", \"28\", \"29\", \"30\", \"31\", \"32\", \"33\", \"34\", \"38\"], \"mode\": \"markers\", \"name\": \"f1_score_macro\", \"stepped\": false, \"type\": \"scatter\", \"data\": [0.8055636176246347, 0.7369834083051007, 0.7885119520174402, 0.7849277343202541, 0.7946492184309474, 0.7929707449975093, 0.7868098583368243, 0.8044974789576462, 0.7404365009331662, 0.730638541644525, 0.795499333122452, 0.7851640914242732, 0.7977258219751219, 0.8128029476191418, 0.33493296626298136, 0.803500255296871, 0.801256700185043, 0.8103927796589229, 0.7384927277457148, 0.8178480497689138]}, {\"categories\": [\"0\", \"2\", \"6\", \"7\", \"12\", \"16\", \"20\", \"22\", \"24\", \"25\", \"26\", \"27\", \"28\", \"29\", \"30\", \"31\", \"32\", \"33\", \"34\", \"38\"], \"mode\": \"lines\", \"name\": \"f1_score_macro_max\", \"stepped\": true, \"type\": \"scatter\", \"data\": [0.8055636176246347, 0.8055636176246347, 0.8055636176246347, 0.8055636176246347, 0.8055636176246347, 0.8055636176246347, 0.8055636176246347, 0.8055636176246347, 0.8055636176246347, 0.8055636176246347, 0.8055636176246347, 0.8055636176246347, 0.8055636176246347, 0.8128029476191418, 0.8128029476191418, 0.8128029476191418, 0.8128029476191418, 0.8128029476191418, 0.8128029476191418, 0.8178480497689138]}], \"precision_score_weighted\": [{\"categories\": [\"0\", \"2\", \"6\", \"7\", \"12\", \"16\", \"20\", \"22\", \"24\", \"25\", \"26\", \"27\", \"28\", \"29\", \"30\", \"31\", \"32\", \"33\", \"34\", \"38\"], \"mode\": \"markers\", \"name\": \"precision_score_weighted\", \"stepped\": false, \"type\": \"scatter\", \"data\": [0.8056757836442197, 0.7493433335004708, 0.7888867904159291, 0.785624581578028, 0.7950975377313944, 0.7931491035571981, 0.7870051128404256, 0.8050092805532904, 0.752783918577449, 0.7344163137738076, 0.7961543023198054, 0.7855473711922104, 0.7981110908931472, 0.8128823245260944, 0.2536603943173377, 0.8037720201160381, 0.8014429340425568, 0.8104762911594218, 0.7556978340696442, 0.8180154421042868]}, {\"categories\": [\"0\", \"2\", \"6\", \"7\", \"12\", \"16\", \"20\", \"22\", \"24\", \"25\", \"26\", \"27\", \"28\", \"29\", \"30\", \"31\", \"32\", \"33\", \"34\", \"38\"], \"mode\": \"lines\", \"name\": \"precision_score_weighted_max\", \"stepped\": true, \"type\": \"scatter\", \"data\": [0.8056757836442197, 0.8056757836442197, 0.8056757836442197, 0.8056757836442197, 0.8056757836442197, 0.8056757836442197, 0.8056757836442197, 0.8056757836442197, 0.8056757836442197, 0.8056757836442197, 0.8056757836442197, 0.8056757836442197, 0.8056757836442197, 0.8128823245260944, 0.8128823245260944, 0.8128823245260944, 0.8128823245260944, 0.8128823245260944, 0.8128823245260944, 0.8180154421042868]}], \"balanced_accuracy\": [{\"categories\": [\"0\", \"2\", \"6\", \"7\", \"12\", \"16\", \"20\", \"22\", \"24\", \"25\", \"26\", \"27\", \"28\", \"29\", \"30\", \"31\", \"32\", \"33\", \"34\", \"38\"], \"mode\": \"markers\", \"name\": \"balanced_accuracy\", \"stepped\": false, \"type\": \"scatter\", \"data\": [0.8055942603187676, 0.7399063061327014, 0.7886117108077197, 0.7851246617805259, 0.79464654588181, 0.7929472401932537, 0.7868734655224692, 0.8046266444609138, 0.7432690939899202, 0.7316831697318393, 0.7956521588825183, 0.7852505309188273, 0.7978376902313636, 0.8128054314571758, 0.5, 0.8036028682258524, 0.8012290959805446, 0.8104085078702953, 0.7424163062905575, 0.8178506431077992]}, {\"categories\": [\"0\", \"2\", \"6\", \"7\", \"12\", \"16\", \"20\", \"22\", \"24\", \"25\", \"26\", \"27\", \"28\", \"29\", \"30\", \"31\", \"32\", \"33\", \"34\", \"38\"], \"mode\": \"lines\", \"name\": \"balanced_accuracy_max\", \"stepped\": true, \"type\": \"scatter\", \"data\": [0.8055942603187676, 0.8055942603187676, 0.8055942603187676, 0.8055942603187676, 0.8055942603187676, 0.8055942603187676, 0.8055942603187676, 0.8055942603187676, 0.8055942603187676, 0.8055942603187676, 0.8055942603187676, 0.8055942603187676, 0.8055942603187676, 0.8128054314571758, 0.8128054314571758, 0.8128054314571758, 0.8128054314571758, 0.8128054314571758, 0.8128054314571758, 0.8178506431077992]}], \"AUC_weighted\": [{\"categories\": [\"0\", \"2\", \"6\", \"7\", \"12\", \"16\", \"20\", \"22\", \"24\", \"25\", \"26\", \"27\", \"28\", \"29\", \"30\", \"31\", \"32\", \"33\", \"34\", \"38\"], \"mode\": \"markers\", \"name\": \"AUC_weighted\", \"stepped\": false, \"type\": \"scatter\", \"data\": [0.8980143373187788, 0.8047583601433056, 0.8778326368362425, 0.8727896403406499, 0.8834514958147734, 0.8777555189839792, 0.8769432947601915, 0.8953027402120652, 0.8243257788152665, 0.8018887510722228, 0.8843441606249014, 0.874017568003101, 0.8900633969210116, 0.8997364895900976, 0.5, 0.8933524671284034, 0.8922711135307052, 0.8995180589528105, 0.8366715132096336, 0.9012629578663397]}, {\"categories\": [\"0\", \"2\", \"6\", \"7\", \"12\", \"16\", \"20\", \"22\", \"24\", \"25\", \"26\", \"27\", \"28\", \"29\", \"30\", \"31\", \"32\", \"33\", \"34\", \"38\"], \"mode\": \"lines\", \"name\": \"AUC_weighted_max\", \"stepped\": true, \"type\": \"scatter\", \"data\": [0.8980143373187788, 0.8980143373187788, 0.8980143373187788, 0.8980143373187788, 0.8980143373187788, 0.8980143373187788, 0.8980143373187788, 0.8980143373187788, 0.8980143373187788, 0.8980143373187788, 0.8980143373187788, 0.8980143373187788, 0.8980143373187788, 0.8997364895900976, 0.8997364895900976, 0.8997364895900976, 0.8997364895900976, 0.8997364895900976, 0.8997364895900976, 0.9012629578663397]}], \"AUC_macro\": [{\"categories\": [\"0\", \"2\", \"6\", \"7\", \"12\", \"16\", \"20\", \"22\", \"24\", \"25\", \"26\", \"27\", \"28\", \"29\", \"30\", \"31\", \"32\", \"33\", \"34\", \"38\"], \"mode\": \"markers\", \"name\": \"AUC_macro\", \"stepped\": false, \"type\": \"scatter\", \"data\": [0.8980143373187788, 0.8047583601433056, 0.8778326368362425, 0.8727896403406499, 0.8834514958147736, 0.8777555189839792, 0.8769432947601915, 0.8953027402120652, 0.8243257788152665, 0.8018887510722228, 0.8843441606249014, 0.874017568003101, 0.8900633969210116, 0.8997364895900976, 0.5, 0.8933524671284034, 0.8922711135307052, 0.8995180589528105, 0.8366715132096336, 0.9012629578663397]}, {\"categories\": [\"0\", \"2\", \"6\", \"7\", \"12\", \"16\", \"20\", \"22\", \"24\", \"25\", \"26\", \"27\", \"28\", \"29\", \"30\", \"31\", \"32\", \"33\", \"34\", \"38\"], \"mode\": \"lines\", \"name\": \"AUC_macro_max\", \"stepped\": true, \"type\": \"scatter\", \"data\": [0.8980143373187788, 0.8980143373187788, 0.8980143373187788, 0.8980143373187788, 0.8980143373187788, 0.8980143373187788, 0.8980143373187788, 0.8980143373187788, 0.8980143373187788, 0.8980143373187788, 0.8980143373187788, 0.8980143373187788, 0.8980143373187788, 0.8997364895900976, 0.8997364895900976, 0.8997364895900976, 0.8997364895900976, 0.8997364895900976, 0.8997364895900976, 0.9012629578663397]}], \"f1_score_micro\": [{\"categories\": [\"0\", \"2\", \"6\", \"7\", \"12\", \"16\", \"20\", \"22\", \"24\", \"25\", \"26\", \"27\", \"28\", \"29\", \"30\", \"31\", \"32\", \"33\", \"34\", \"38\"], \"mode\": \"markers\", \"name\": \"f1_score_micro\", \"stepped\": false, \"type\": \"scatter\", \"data\": [0.8055900279977845, 0.7393301707064163, 0.788563986948043, 0.7849980578232666, 0.7947747174248655, 0.7930500512509668, 0.7868399825038661, 0.8045550827129067, 0.7427802309569074, 0.7312771846841332, 0.7955827555881422, 0.7852287368042822, 0.7977681841673223, 0.8128376227756782, 0.5036235657835443, 0.8035202036010007, 0.8013333853894048, 0.8104225739830373, 0.741630078527466, 0.8178985978608925]}, {\"categories\": [\"0\", \"2\", \"6\", \"7\", \"12\", \"16\", \"20\", \"22\", \"24\", \"25\", \"26\", \"27\", \"28\", \"29\", \"30\", \"31\", \"32\", \"33\", \"34\", \"38\"], \"mode\": \"lines\", \"name\": \"f1_score_micro_max\", \"stepped\": true, \"type\": \"scatter\", \"data\": [0.8055900279977845, 0.8055900279977845, 0.8055900279977845, 0.8055900279977845, 0.8055900279977845, 0.8055900279977845, 0.8055900279977845, 0.8055900279977845, 0.8055900279977845, 0.8055900279977845, 0.8055900279977845, 0.8055900279977845, 0.8055900279977845, 0.8128376227756782, 0.8128376227756782, 0.8128376227756782, 0.8128376227756782, 0.8128376227756782, 0.8128376227756782, 0.8178985978608925]}], \"log_loss\": [{\"categories\": [\"0\", \"2\", \"6\", \"7\", \"12\", \"16\", \"20\", \"22\", \"24\", \"25\", \"26\", \"27\", \"28\", \"29\", \"30\", \"31\", \"32\", \"33\", \"34\", \"38\"], \"mode\": \"markers\", \"name\": \"log_loss\", \"stepped\": false, \"type\": \"scatter\", \"data\": [0.3933646238491386, 0.5660750024628174, 0.43206185257210733, 0.44567199507711575, 0.4273505990271703, 0.44025758239354407, 0.45692743068004393, 0.4142016518970162, 0.5420948169631253, 0.5310358539294118, 0.590938609046755, 0.509900626207658, 0.4489228028181224, 0.39330081562599994, 0.6931476991488463, 0.40863114277884094, 0.42408072030553445, 0.39429066162980314, 0.5263253775067895, 0.456381949982368]}, {\"categories\": [\"0\", \"2\", \"6\", \"7\", \"12\", \"16\", \"20\", \"22\", \"24\", \"25\", \"26\", \"27\", \"28\", \"29\", \"30\", \"31\", \"32\", \"33\", \"34\", \"38\"], \"mode\": \"lines\", \"name\": \"log_loss_min\", \"stepped\": true, \"type\": \"scatter\", \"data\": [0.3933646238491386, 0.3933646238491386, 0.3933646238491386, 0.3933646238491386, 0.3933646238491386, 0.3933646238491386, 0.3933646238491386, 0.3933646238491386, 0.3933646238491386, 0.3933646238491386, 0.3933646238491386, 0.3933646238491386, 0.3933646238491386, 0.39330081562599994, 0.39330081562599994, 0.39330081562599994, 0.39330081562599994, 0.39330081562599994, 0.39330081562599994, 0.39330081562599994]}], \"precision_score_macro\": [{\"categories\": [\"0\", \"2\", \"6\", \"7\", \"12\", \"16\", \"20\", \"22\", \"24\", \"25\", \"26\", \"27\", \"28\", \"29\", \"30\", \"31\", \"32\", \"33\", \"34\", \"38\"], \"mode\": \"markers\", \"name\": \"precision_score_macro\", \"stepped\": false, \"type\": \"scatter\", \"data\": [0.8056305160088619, 0.7489885751896772, 0.788815346542397, 0.7855030256348996, 0.795131155254014, 0.7931649508345952, 0.7869367608262106, 0.8049216203525902, 0.7524802471160635, 0.7341600568213495, 0.7960670202594591, 0.7854902502804981, 0.7980236924656265, 0.8128600435821791, 0.25181178289177214, 0.8036763530347724, 0.8014637540415166, 0.8104400802630186, 0.7552321528919548, 0.8180055208099961]}, {\"categories\": [\"0\", \"2\", \"6\", \"7\", \"12\", \"16\", \"20\", \"22\", \"24\", \"25\", \"26\", \"27\", \"28\", \"29\", \"30\", \"31\", \"32\", \"33\", \"34\", \"38\"], \"mode\": \"lines\", \"name\": \"precision_score_macro_max\", \"stepped\": true, \"type\": \"scatter\", \"data\": [0.8056305160088619, 0.8056305160088619, 0.8056305160088619, 0.8056305160088619, 0.8056305160088619, 0.8056305160088619, 0.8056305160088619, 0.8056305160088619, 0.8056305160088619, 0.8056305160088619, 0.8056305160088619, 0.8056305160088619, 0.8056305160088619, 0.8128600435821791, 0.8128600435821791, 0.8128600435821791, 0.8128600435821791, 0.8128600435821791, 0.8128600435821791, 0.8180055208099961]}], \"precision_score_micro\": [{\"categories\": [\"0\", \"2\", \"6\", \"7\", \"12\", \"16\", \"20\", \"22\", \"24\", \"25\", \"26\", \"27\", \"28\", \"29\", \"30\", \"31\", \"32\", \"33\", \"34\", \"38\"], \"mode\": \"markers\", \"name\": \"precision_score_micro\", \"stepped\": false, \"type\": \"scatter\", \"data\": [0.8055900279977845, 0.7393301707064163, 0.788563986948043, 0.7849980578232665, 0.7947747174248655, 0.7930500512509668, 0.7868399825038661, 0.8045550827129067, 0.7427802309569074, 0.7312771846841333, 0.7955827555881422, 0.7852287368042822, 0.7977681841673223, 0.8128376227756782, 0.5036235657835443, 0.8035202036010007, 0.8013333853894048, 0.8104225739830373, 0.7416300785274661, 0.8178985978608925]}, {\"categories\": [\"0\", \"2\", \"6\", \"7\", \"12\", \"16\", \"20\", \"22\", \"24\", \"25\", \"26\", \"27\", \"28\", \"29\", \"30\", \"31\", \"32\", \"33\", \"34\", \"38\"], \"mode\": \"lines\", \"name\": \"precision_score_micro_max\", \"stepped\": true, \"type\": \"scatter\", \"data\": [0.8055900279977845, 0.8055900279977845, 0.8055900279977845, 0.8055900279977845, 0.8055900279977845, 0.8055900279977845, 0.8055900279977845, 0.8055900279977845, 0.8055900279977845, 0.8055900279977845, 0.8055900279977845, 0.8055900279977845, 0.8055900279977845, 0.8128376227756782, 0.8128376227756782, 0.8128376227756782, 0.8128376227756782, 0.8128376227756782, 0.8128376227756782, 0.8178985978608925]}], \"average_precision_score_macro\": [{\"categories\": [\"0\", \"2\", \"6\", \"7\", \"12\", \"16\", \"20\", \"22\", \"24\", \"25\", \"26\", \"27\", \"28\", \"29\", \"30\", \"31\", \"32\", \"33\", \"34\", \"38\"], \"mode\": \"markers\", \"name\": \"average_precision_score_macro\", \"stepped\": false, \"type\": \"scatter\", \"data\": [0.8995283541735963, 0.7977039336353342, 0.8759912375198293, 0.8745434728744386, 0.8852998908657712, 0.8789262220376786, 0.8746237637368534, 0.8958039373389054, 0.8165359168505997, 0.7900275953115803, 0.8842896406510266, 0.8745399111633884, 0.8902260167385199, 0.9008684123986705, 0.5, 0.8938600810278196, 0.8914346505016159, 0.9002376228848835, 0.8147222775347913, 0.9013622103531048]}, {\"categories\": [\"0\", \"2\", \"6\", \"7\", \"12\", \"16\", \"20\", \"22\", \"24\", \"25\", \"26\", \"27\", \"28\", \"29\", \"30\", \"31\", \"32\", \"33\", \"34\", \"38\"], \"mode\": \"lines\", \"name\": \"average_precision_score_macro_max\", \"stepped\": true, \"type\": \"scatter\", \"data\": [0.8995283541735963, 0.8995283541735963, 0.8995283541735963, 0.8995283541735963, 0.8995283541735963, 0.8995283541735963, 0.8995283541735963, 0.8995283541735963, 0.8995283541735963, 0.8995283541735963, 0.8995283541735963, 0.8995283541735963, 0.8995283541735963, 0.9008684123986705, 0.9008684123986705, 0.9008684123986705, 0.9008684123986705, 0.9008684123986705, 0.9008684123986705, 0.9013622103531048]}]}, \"metricName\": null, \"primaryMetricName\": \"accuracy\", \"showLegend\": false}, \"run_metrics\": [{\"name\": \"experiment_status\", \"run_id\": \"AutoML_4c7ea1c1-7479-4a9f-b8fc-77866872cc89\", \"categories\": [0, 1, 2, 3, 4, 5, 6, 7, 8, 9, 10, 11, 12, 13], \"series\": [{\"data\": [\"DatasetEvaluation\", \"FeaturesGeneration\", \"DatasetFeaturization\", \"DatasetFeaturizationCompleted\", \"DatasetCrossValidationSplit\", \"ModelSelection\", \"BestRunExplainModel\", \"ModelExplanationDataSetSetup\", \"PickSurrogateModel\", \"EngineeredFeatureExplanations\", \"EngineeredFeatureExplanations\", \"RawFeaturesExplanations\", \"RawFeaturesExplanations\", \"BestRunExplainModel\"]}]}, {\"name\": \"experiment_status_description\", \"run_id\": \"AutoML_4c7ea1c1-7479-4a9f-b8fc-77866872cc89\", \"categories\": [0, 1, 2, 3, 4, 5, 6, 7, 8, 9, 10, 11, 12, 13], \"series\": [{\"data\": [\"Gathering dataset statistics.\", \"Generating features for the dataset.\", \"Beginning to fit featurizers and featurize the dataset.\", \"Completed fit featurizers and featurizing the dataset.\", \"Generating individually featurized CV splits.\", \"Beginning model selection.\", \"Best run model explanations started\", \"Model explanations data setup completed\", \"Choosing LightGBM as the surrogate model for explanations\", \"Computation of engineered features started\", \"Computation of engineered features completed\", \"Computation of raw features started\", \"Computation of raw features completed\", \"Best run model explanations completed\"]}]}, {\"name\": \"matthews_correlation\", \"run_id\": \"AutoML_4c7ea1c1-7479-4a9f-b8fc-77866872cc89\", \"categories\": [0], \"series\": [{\"data\": [0.635856123107378]}]}, {\"name\": \"AUC_weighted\", \"run_id\": \"AutoML_4c7ea1c1-7479-4a9f-b8fc-77866872cc89\", \"categories\": [0], \"series\": [{\"data\": [0.9012629578663397]}]}, {\"name\": \"AUC_micro\", \"run_id\": \"AutoML_4c7ea1c1-7479-4a9f-b8fc-77866872cc89\", \"categories\": [0], \"series\": [{\"data\": [0.903039922607471]}]}, {\"name\": \"accuracy\", \"run_id\": \"AutoML_4c7ea1c1-7479-4a9f-b8fc-77866872cc89\", \"categories\": [0], \"series\": [{\"data\": [0.8178985978608925]}]}, {\"name\": \"recall_score_macro\", \"run_id\": \"AutoML_4c7ea1c1-7479-4a9f-b8fc-77866872cc89\", \"categories\": [0], \"series\": [{\"data\": [0.8178506431077992]}]}, {\"name\": \"average_precision_score_micro\", \"run_id\": \"AutoML_4c7ea1c1-7479-4a9f-b8fc-77866872cc89\", \"categories\": [0], \"series\": [{\"data\": [0.9047186894981701]}]}, {\"name\": \"balanced_accuracy\", \"run_id\": \"AutoML_4c7ea1c1-7479-4a9f-b8fc-77866872cc89\", \"categories\": [0], \"series\": [{\"data\": [0.8178506431077992]}]}, {\"name\": \"recall_score_weighted\", \"run_id\": \"AutoML_4c7ea1c1-7479-4a9f-b8fc-77866872cc89\", \"categories\": [0], \"series\": [{\"data\": [0.8178985978608925]}]}, {\"name\": \"average_precision_score_weighted\", \"run_id\": \"AutoML_4c7ea1c1-7479-4a9f-b8fc-77866872cc89\", \"categories\": [0], \"series\": [{\"data\": [0.9014454076624325]}]}, {\"name\": \"f1_score_weighted\", \"run_id\": \"AutoML_4c7ea1c1-7479-4a9f-b8fc-77866872cc89\", \"categories\": [0], \"series\": [{\"data\": [0.8178770111399427]}]}, {\"name\": \"log_loss\", \"run_id\": \"AutoML_4c7ea1c1-7479-4a9f-b8fc-77866872cc89\", \"categories\": [0], \"series\": [{\"data\": [0.456381949982368]}]}, {\"name\": \"f1_score_macro\", \"run_id\": \"AutoML_4c7ea1c1-7479-4a9f-b8fc-77866872cc89\", \"categories\": [0], \"series\": [{\"data\": [0.8178480497689138]}]}, {\"name\": \"precision_score_weighted\", \"run_id\": \"AutoML_4c7ea1c1-7479-4a9f-b8fc-77866872cc89\", \"categories\": [0], \"series\": [{\"data\": [0.8180154421042868]}]}, {\"name\": \"average_precision_score_macro\", \"run_id\": \"AutoML_4c7ea1c1-7479-4a9f-b8fc-77866872cc89\", \"categories\": [0], \"series\": [{\"data\": [0.9013622103531048]}]}, {\"name\": \"weighted_accuracy\", \"run_id\": \"AutoML_4c7ea1c1-7479-4a9f-b8fc-77866872cc89\", \"categories\": [0], \"series\": [{\"data\": [0.8179464852861479]}]}, {\"name\": \"f1_score_micro\", \"run_id\": \"AutoML_4c7ea1c1-7479-4a9f-b8fc-77866872cc89\", \"categories\": [0], \"series\": [{\"data\": [0.8178985978608925]}]}, {\"name\": \"precision_score_micro\", \"run_id\": \"AutoML_4c7ea1c1-7479-4a9f-b8fc-77866872cc89\", \"categories\": [0], \"series\": [{\"data\": [0.8178985978608925]}]}, {\"name\": \"precision_score_macro\", \"run_id\": \"AutoML_4c7ea1c1-7479-4a9f-b8fc-77866872cc89\", \"categories\": [0], \"series\": [{\"data\": [0.8180055208099961]}]}, {\"name\": \"AUC_macro\", \"run_id\": \"AutoML_4c7ea1c1-7479-4a9f-b8fc-77866872cc89\", \"categories\": [0], \"series\": [{\"data\": [0.9012629578663397]}]}, {\"name\": \"norm_macro_recall\", \"run_id\": \"AutoML_4c7ea1c1-7479-4a9f-b8fc-77866872cc89\", \"categories\": [0], \"series\": [{\"data\": [0.6357012862155982]}]}, {\"name\": \"recall_score_micro\", \"run_id\": \"AutoML_4c7ea1c1-7479-4a9f-b8fc-77866872cc89\", \"categories\": [0], \"series\": [{\"data\": [0.8178985978608925]}]}], \"run_logs\": \"\\nRun is completed.\", \"graph\": {}, \"widget_settings\": {\"childWidgetDisplay\": \"popup\", \"send_telemetry\": false, \"log_level\": \"INFO\", \"sdk_version\": \"1.51.0\"}, \"loading\": false}"
          },
          "metadata": {}
        },
        {
          "output_type": "display_data",
          "data": {
            "text/html": "<table style=\"width:100%\"><tr><th>Experiment</th><th>Id</th><th>Type</th><th>Status</th><th>Details Page</th><th>Docs Page</th></tr><tr><td>automl-experiment</td><td>AutoML_4c7ea1c1-7479-4a9f-b8fc-77866872cc89</td><td>automl</td><td>Completed</td><td><a href=\"https://ml.azure.com/runs/AutoML_4c7ea1c1-7479-4a9f-b8fc-77866872cc89?wsid=/subscriptions/2c48c51c-bd47-40d4-abbe-fb8eabd19c8c/resourcegroups/aml-quickstarts-251292/workspaces/quick-starts-ws-251292&amp;tid=660b3398-b80e-49d2-bc5b-ac1dc93b5254\" target=\"_blank\" rel=\"noopener\">Link to Azure Machine Learning studio</a></td><td><a href=\"https://docs.microsoft.com/en-us/python/api/overview/azure/ml/intro?view=azure-ml-py\" target=\"_blank\" rel=\"noopener\">Link to Documentation</a></td></tr></table>"
          },
          "metadata": {}
        },
        {
          "output_type": "stream",
          "name": "stdout",
          "text": "\n\n********************************************************************************************\nDATA GUARDRAILS: \n\nTYPE:         Class balancing detection\nSTATUS:       PASSED\nDESCRIPTION:  Your inputs were analyzed, and all classes are balanced in your training data.\n              Learn more about imbalanced data: https://aka.ms/AutomatedMLImbalancedData\n\n********************************************************************************************\n\nTYPE:         Missing feature values imputation\nSTATUS:       DONE\nDESCRIPTION:  If the missing values are expected, let the run complete. Otherwise cancel the current run and use a script to customize the handling of missing feature values that may be more appropriate based on the data type and business requirement.\n              Learn more about missing value imputation: https://aka.ms/AutomatedMLFeaturization\nDETAILS:      \n+------------------------------+------------------------------+------------------------------+\n|Column name                   |Missing value count           |Imputation type               |\n+==============================+==============================+==============================+\n|RoomService                   |181                           |mean                          |\n|FoodCourt                     |183                           |mean                          |\n|ShoppingMall                  |208                           |mean                          |\n|Spa                           |183                           |mean                          |\n|VRDeck                        |188                           |mean                          |\n|People_in_Cabin_Num           |199                           |mean                          |\n|People_in_Cabin_Deck          |199                           |mean                          |\n|Family_Size                   |200                           |mean                          |\n+------------------------------+------------------------------+------------------------------+\n\n********************************************************************************************\n\nTYPE:         High cardinality feature detection\nSTATUS:       PASSED\nDESCRIPTION:  Your inputs were analyzed, and no high cardinality features were detected.\n              Learn more about high cardinality feature handling: https://aka.ms/AutomatedMLFeaturization\n\n********************************************************************************************\n\n********************************************************************************************\nITER: The iteration being evaluated.\nPIPELINE: A summary description of the pipeline being evaluated.\nDURATION: Time taken for the current iteration.\nMETRIC: The result of computing score on the fitted pipeline.\nBEST: The best observed score thus far.\n********************************************************************************************\n\n ITER   PIPELINE                                       DURATION            METRIC      BEST\n    0   MaxAbsScaler LightGBM                          0:00:18             0.8056    0.8056\n    1   MaxAbsScaler XGBoostClassifier                 0:00:19             0.7991    0.8056\n    2   MaxAbsScaler ExtremeRandomTrees                0:00:16             0.7393    0.8056\n    3   SparseNormalizer XGBoostClassifier             0:00:15             0.7981    0.8056\n    4   MaxAbsScaler LightGBM                          0:00:14             0.8046    0.8056\n    5   MaxAbsScaler LightGBM                          0:00:16             0.7895    0.8056\n    6   StandardScalerWrapper XGBoostClassifier        0:00:13             0.7886    0.8056\n    7   MaxAbsScaler LogisticRegression                0:00:15             0.7850    0.8056\n   10   SparseNormalizer LightGBM                      0:00:15             0.7835    0.8056\n   11   StandardScalerWrapper XGBoostClassifier        0:00:13             0.8044    0.8056\n    8   StandardScalerWrapper ExtremeRandomTrees       0:00:13             0.7264    0.8056\n    9   StandardScalerWrapper XGBoostClassifier        0:00:14             0.8003    0.8056\n   12   MaxAbsScaler LogisticRegression                0:00:14             0.7948    0.8056\n   13   MaxAbsScaler SGD                               0:00:12             0.7810    0.8056\n   14   StandardScalerWrapper XGBoostClassifier        0:00:13             0.7997    0.8056\n   15   SparseNormalizer RandomForest                  0:00:24             0.7834    0.8056\n   16   StandardScalerWrapper LogisticRegression       0:00:13             0.7931    0.8056\n   17   StandardScalerWrapper RandomForest             0:00:14             0.7680    0.8056\n   18   StandardScalerWrapper XGBoostClassifier        0:00:15             0.8064    0.8064\n   19   TruncatedSVDWrapper RandomForest               0:00:34             0.7722    0.8064\n   20   TruncatedSVDWrapper RandomForest               0:01:50             0.7868    0.8064\n   21   StandardScalerWrapper XGBoostClassifier        0:04:34             0.8019    0.8064\n   22   SparseNormalizer XGBoostClassifier             0:00:43             0.8046    0.8064\n   23   StandardScalerWrapper LogisticRegression       0:01:03             0.7947    0.8064\n   24   StandardScalerWrapper RandomForest             0:01:00             0.7428    0.8064\n   25   TruncatedSVDWrapper XGBoostClassifier          0:01:39             0.7313    0.8064\n   26   SparseNormalizer XGBoostClassifier             0:01:28             0.7956    0.8064\n   27   SparseNormalizer XGBoostClassifier             0:00:51             0.7852    0.8064\n   28   SparseNormalizer XGBoostClassifier             0:01:27             0.7978    0.8064\n   29   SparseNormalizer XGBoostClassifier             0:00:51             0.8128    0.8128\n   30   SparseNormalizer XGBoostClassifier             0:00:59             0.5036    0.8128\n   31   SparseNormalizer XGBoostClassifier             0:01:34             0.8035    0.8128\n   32   SparseNormalizer XGBoostClassifier             0:00:57             0.8013    0.8128\n   33   SparseNormalizer XGBoostClassifier             0:00:46             0.8104    0.8128\n   34   StandardScalerWrapper XGBoostClassifier        0:01:13             0.7416    0.8128\n   35                                                  0:00:11                nan    0.8128\nERROR: {\n    \"additional_properties\": {},\n    \"error\": {\n        \"additional_properties\": {\n            \"debugInfo\": null\n        },\n        \"code\": \"UserError\",\n        \"severity\": null,\n        \"message\": \"Experiment timeout reached, please consider increasing your experiment timeout.\",\n        \"message_format\": \"Experiment timeout reached, please consider increasing your experiment timeout.\",\n        \"message_parameters\": {},\n        \"reference_code\": null,\n        \"details_uri\": null,\n        \"target\": null,\n        \"details\": [],\n        \"inner_error\": {\n            \"additional_properties\": {},\n            \"code\": \"ResourceExhausted\",\n            \"inner_error\": {\n                \"additional_properties\": {},\n                \"code\": \"Timeout\",\n                \"inner_error\": {\n                    \"additional_properties\": {},\n                    \"code\": \"ExperimentTimeoutForIterations\",\n                    \"inner_error\": null\n                }\n            }\n        },\n        \"additional_info\": null\n    },\n    \"correlation\": null,\n    \"environment\": null,\n    \"location\": null,\n    \"time\": {},\n    \"component_name\": null\n}\n   36                                                  0:00:06                nan    0.8128\nERROR: {\n    \"additional_properties\": {},\n    \"error\": {\n        \"additional_properties\": {\n            \"debugInfo\": null\n        },\n        \"code\": \"UserError\",\n        \"severity\": null,\n        \"message\": \"Experiment timeout reached, please consider increasing your experiment timeout.\",\n        \"message_format\": \"Experiment timeout reached, please consider increasing your experiment timeout.\",\n        \"message_parameters\": {},\n        \"reference_code\": null,\n        \"details_uri\": null,\n        \"target\": null,\n        \"details\": [],\n        \"inner_error\": {\n            \"additional_properties\": {},\n            \"code\": \"ResourceExhausted\",\n            \"inner_error\": {\n                \"additional_properties\": {},\n                \"code\": \"Timeout\",\n                \"inner_error\": {\n                    \"additional_properties\": {},\n                    \"code\": \"ExperimentTimeoutForIterations\",\n                    \"inner_error\": null\n                }\n            }\n        },\n        \"additional_info\": null\n    },\n    \"correlation\": null,\n    \"environment\": null,\n    \"location\": null,\n    \"time\": {},\n    \"component_name\": null\n}\n   37                                                  0:00:10                nan    0.8128\nERROR: {\n    \"additional_properties\": {},\n    \"error\": {\n        \"additional_properties\": {\n            \"debugInfo\": null\n        },\n        \"code\": \"UserError\",\n        \"severity\": null,\n        \"message\": \"Experiment timeout reached, please consider increasing your experiment timeout.\",\n        \"message_format\": \"Experiment timeout reached, please consider increasing your experiment timeout.\",\n        \"message_parameters\": {},\n        \"reference_code\": null,\n        \"details_uri\": null,\n        \"target\": null,\n        \"details\": [],\n        \"inner_error\": {\n            \"additional_properties\": {},\n            \"code\": \"ResourceExhausted\",\n            \"inner_error\": {\n                \"additional_properties\": {},\n                \"code\": \"Timeout\",\n                \"inner_error\": {\n                    \"additional_properties\": {},\n                    \"code\": \"ExperimentTimeoutForIterations\",\n                    \"inner_error\": null\n                }\n            }\n        },\n        \"additional_info\": null\n    },\n    \"correlation\": null,\n    \"environment\": null,\n    \"location\": null,\n    \"time\": {},\n    \"component_name\": null\n}\n   38    VotingEnsemble                                0:03:22             0.8179    0.8179\n   39    StackEnsemble                                 0:02:16             0.8146    0.8179\n"
        },
        {
          "output_type": "execute_result",
          "execution_count": 12,
          "data": {
            "text/plain": "{'runId': 'AutoML_4c7ea1c1-7479-4a9f-b8fc-77866872cc89',\n 'target': 'my-cluster',\n 'status': 'Completed',\n 'startTimeUtc': '2024-02-01T14:22:28.435064Z',\n 'endTimeUtc': '2024-02-01T15:03:29.34377Z',\n 'services': {},\n 'warnings': [{'source': 'JasmineService',\n   'message': 'Experiment timeout reached, hence experiment stopped. Current experiment timeout: 0 hour(s) 20 minute(s)'}],\n 'properties': {'num_iterations': '1000',\n  'training_type': 'TrainFull',\n  'acquisition_function': 'EI',\n  'primary_metric': 'accuracy',\n  'train_split': '0',\n  'acquisition_parameter': '0',\n  'num_cross_validation': '5',\n  'target': 'my-cluster',\n  'AMLSettingsJsonString': '{\"path\":null,\"name\":\"automl-experiment\",\"subscription_id\":\"2c48c51c-bd47-40d4-abbe-fb8eabd19c8c\",\"resource_group\":\"aml-quickstarts-251292\",\"workspace_name\":\"quick-starts-ws-251292\",\"region\":\"westeurope\",\"compute_target\":\"my-cluster\",\"spark_service\":null,\"azure_service\":\"remote\",\"many_models\":false,\"pipeline_fetch_max_batch_size\":1,\"enable_batch_run\":true,\"enable_parallel_run\":false,\"num_procs\":null,\"enable_run_restructure\":false,\"start_auxiliary_runs_before_parent_complete\":false,\"enable_code_generation\":true,\"iterations\":1000,\"primary_metric\":\"accuracy\",\"task_type\":\"classification\",\"positive_label\":null,\"data_script\":null,\"test_size\":0.0,\"test_include_predictions_only\":false,\"validation_size\":0.0,\"n_cross_validations\":5,\"y_min\":null,\"y_max\":null,\"num_classes\":null,\"featurization\":\"auto\",\"_ignore_package_version_incompatibilities\":false,\"is_timeseries\":false,\"max_cores_per_iteration\":1,\"max_concurrent_iterations\":4,\"iteration_timeout_minutes\":null,\"mem_in_mb\":null,\"enforce_time_on_windows\":false,\"experiment_timeout_minutes\":20,\"experiment_exit_score\":null,\"partition_column_names\":null,\"whitelist_models\":null,\"blacklist_algos\":[\"TensorFlowLinearClassifier\",\"TensorFlowDNN\"],\"supported_models\":[\"KNN\",\"LogisticRegression\",\"AveragedPerceptronClassifier\",\"SVM\",\"TensorFlowDNN\",\"ExtremeRandomTrees\",\"GradientBoosting\",\"SGD\",\"XGBoostClassifier\",\"LinearSVM\",\"TensorFlowLinearClassifier\",\"RandomForest\",\"LightGBM\",\"MultinomialNaiveBayes\",\"BernoulliNaiveBayes\",\"TabnetClassifier\",\"DecisionTree\"],\"private_models\":[],\"auto_blacklist\":true,\"blacklist_samples_reached\":false,\"exclude_nan_labels\":true,\"verbosity\":20,\"_debug_log\":\"azureml_automl.log\",\"show_warnings\":false,\"model_explainability\":true,\"service_url\":null,\"sdk_url\":null,\"sdk_packages\":null,\"enable_onnx_compatible_models\":false,\"enable_split_onnx_featurizer_estimator_models\":false,\"vm_type\":\"STANDARD_D2_V2\",\"telemetry_verbosity\":20,\"send_telemetry\":true,\"enable_dnn\":false,\"scenario\":\"AutoML\",\"environment_label\":null,\"save_mlflow\":false,\"enable_categorical_indicators\":false,\"force_text_dnn\":false,\"enable_feature_sweeping\":true,\"enable_early_stopping\":true,\"early_stopping_n_iters\":10,\"arguments\":null,\"dataset_id\":\"6a9798a1-0076-4fa0-b4e5-1c794db716c7\",\"hyperdrive_config\":null,\"validation_dataset_id\":null,\"run_source\":null,\"metrics\":null,\"enable_metric_confidence\":false,\"enable_ensembling\":true,\"enable_stack_ensembling\":true,\"ensemble_iterations\":15,\"enable_tf\":false,\"enable_subsampling\":null,\"subsample_seed\":null,\"enable_nimbusml\":false,\"enable_streaming\":false,\"force_streaming\":false,\"track_child_runs\":true,\"n_best_runs\":1,\"allowed_private_models\":[],\"label_column_name\":\"Transported\",\"weight_column_name\":null,\"cv_split_column_names\":null,\"enable_local_managed\":false,\"_local_managed_run_id\":null,\"cost_mode\":1,\"lag_length\":0,\"metric_operation\":\"maximize\",\"preprocess\":true}',\n  'DataPrepJsonString': '{\\\\\"training_data\\\\\": {\\\\\"datasetId\\\\\": \\\\\"6a9798a1-0076-4fa0-b4e5-1c794db716c7\\\\\"}, \\\\\"datasets\\\\\": 0}',\n  'EnableSubsampling': None,\n  'runTemplate': 'AutoML',\n  'azureml.runsource': 'automl',\n  'display_task_type': 'classification',\n  'dependencies_versions': '{\"azureml-dataprep-native\": \"38.0.0\", \"azureml-dataprep\": \"4.10.8\", \"azureml-dataprep-rslex\": \"2.17.12\", \"azureml-train-automl-runtime\": \"1.51.0.post2\", \"azureml-train-automl-client\": \"1.51.0.post1\", \"azureml-training-tabular\": \"1.51.0.post1\", \"azureml-automl-runtime\": \"1.51.0.post1\", \"azureml-automl-core\": \"1.51.0.post1\", \"azureml-mlflow\": \"1.51.0\", \"azureml-datadrift\": \"1.51.0\", \"azureml-pipeline\": \"1.51.0\", \"azureml-contrib-dataset\": \"1.51.0\", \"azureml-contrib-notebook\": \"1.51.0\", \"azureml-accel-models\": \"1.51.0\", \"azureml-automl-dnn-nlp\": \"1.51.0\", \"azureml-pipeline-core\": \"1.51.0\", \"azureml-responsibleai\": \"1.51.0\", \"azureml-contrib-automl-pipeline-steps\": \"1.51.0\", \"azureml-pipeline-steps\": \"1.51.0\", \"azureml-core\": \"1.51.0\", \"azureml-contrib-reinforcementlearning\": \"1.51.0\", \"azureml-contrib-server\": \"1.51.0\", \"azureml-opendatasets\": \"1.51.0\", \"azureml-contrib-services\": \"1.51.0\", \"azureml-telemetry\": \"1.51.0\", \"azureml-train-restclients-hyperdrive\": \"1.51.0\", \"azureml-interpret\": \"1.51.0\", \"azureml-train-core\": \"1.51.0\", \"azureml-tensorboard\": \"1.51.0\", \"azureml-train\": \"1.51.0\", \"azureml-contrib-pipeline-steps\": \"1.51.0\", \"azureml-explain-model\": \"1.51.0\", \"azureml-cli-common\": \"1.51.0\", \"azureml-widgets\": \"1.51.0\", \"azureml-train-automl\": \"1.51.0\", \"azureml-defaults\": \"1.51.0\", \"azureml-contrib-fairness\": \"1.51.0\", \"azureml-sdk\": \"1.51.0\", \"azureml-dataset-runtime\": \"1.51.0\", \"azureml-inference-server-http\": \"0.8.4\"}',\n  '_aml_system_scenario_identification': 'Remote.Parent',\n  'ClientType': 'SDK',\n  'PlatformVersion': 'DPV1',\n  'environment_cpu_name': 'AzureML-AutoML',\n  'environment_cpu_label': 'scikit-upgrade2',\n  'environment_gpu_name': 'AzureML-AutoML-GPU',\n  'environment_gpu_label': 'scikit-upgrade2',\n  'root_attribution': 'automl',\n  'attribution': 'AutoML',\n  'Orchestrator': 'AutoML',\n  'CancelUri': 'https://westeurope.api.azureml.ms/jasmine/v1.0/subscriptions/2c48c51c-bd47-40d4-abbe-fb8eabd19c8c/resourceGroups/aml-quickstarts-251292/providers/Microsoft.MachineLearningServices/workspaces/quick-starts-ws-251292/experimentids/a9b2ec97-6f1f-4526-91e6-ce5f2b917818/cancel/AutoML_4c7ea1c1-7479-4a9f-b8fc-77866872cc89',\n  'ClientSdkVersion': None,\n  'snapshotId': '00000000-0000-0000-0000-000000000000',\n  'SetupRunId': 'AutoML_4c7ea1c1-7479-4a9f-b8fc-77866872cc89_setup',\n  'SetupRunContainerId': 'dcid.AutoML_4c7ea1c1-7479-4a9f-b8fc-77866872cc89_setup',\n  'FeaturizationRunJsonPath': 'featurizer_container.json',\n  'FeaturizationRunId': 'AutoML_4c7ea1c1-7479-4a9f-b8fc-77866872cc89_featurize',\n  'ProblemInfoJsonString': '{\"dataset_num_categorical\": 0, \"is_sparse\": true, \"subsampling\": false, \"has_extra_col\": true, \"dataset_classes\": 2, \"dataset_features\": 59, \"dataset_samples\": 8693, \"single_frequency_class_detected\": false}',\n  'ModelExplainRunId': 'AutoML_4c7ea1c1-7479-4a9f-b8fc-77866872cc89_ModelExplain'},\n 'inputDatasets': [{'dataset': {'id': '6a9798a1-0076-4fa0-b4e5-1c794db716c7'}, 'consumptionDetails': {'type': 'RunInput', 'inputName': 'training_data', 'mechanism': 'Direct'}}],\n 'outputDatasets': [],\n 'logFiles': {},\n 'submittedBy': 'ODL_User 251292'}"
          },
          "metadata": {}
        }
      ],
      "execution_count": 12,
      "metadata": {
        "jupyter": {
          "source_hidden": false,
          "outputs_hidden": false
        },
        "nteract": {
          "transient": {
            "deleting": false
          }
        },
        "gather": {
          "logged": 1706800242565
        }
      }
    },
    {
      "cell_type": "markdown",
      "source": [
        "## Best Model\n",
        "\n",
        "TODO: In the cell below, get the best model from the automl experiments and display all the properties of the model.\n",
        "\n"
      ],
      "metadata": {}
    },
    {
      "cell_type": "code",
      "source": [
        "best_run, best_model = automl_run.get_output()\n",
        "best_metrics = best_run.get_metrics()\n",
        "print(best_run)\n",
        "print(best_metrics)"
      ],
      "outputs": [
        {
          "output_type": "stream",
          "name": "stderr",
          "text": "WARNING:root:The version of the SDK does not match the version the model was trained on.\nWARNING:root:The consistency in the result may not be guaranteed.\nWARNING:root:Package:azureml-automl-core, training version:1.52.0.post1, current version:1.51.0.post1\nPackage:azureml-automl-runtime, training version:1.52.0.post1, current version:1.51.0.post1\nPackage:azureml-core, training version:1.52.0, current version:1.51.0\nPackage:azureml-dataprep, training version:4.11.4, current version:4.10.8\nPackage:azureml-dataprep-rslex, training version:2.18.4, current version:2.17.12\nPackage:azureml-dataset-runtime, training version:1.52.0, current version:1.51.0\nPackage:azureml-defaults, training version:1.52.0, current version:1.51.0\nPackage:azureml-interpret, training version:1.52.0, current version:1.51.0\nPackage:azureml-mlflow, training version:1.52.0, current version:1.51.0\nPackage:azureml-pipeline-core, training version:1.52.0, current version:1.51.0\nPackage:azureml-responsibleai, training version:1.52.0, current version:1.51.0\nPackage:azureml-telemetry, training version:1.52.0, current version:1.51.0\nPackage:azureml-train-automl-client, training version:1.52.0, current version:1.51.0.post1\nPackage:azureml-train-automl-runtime, training version:1.52.0, current version:1.51.0.post2\nPackage:azureml-train-core, training version:1.52.0, current version:1.51.0\nPackage:azureml-train-restclients-hyperdrive, training version:1.52.0, current version:1.51.0\nPackage:azureml-training-tabular, training version:1.52.0, current version:1.51.0.post1\nWARNING:root:Please ensure the version of your local conda dependencies match the version on which your model was trained in order to properly retrieve your model.\n"
        },
        {
          "output_type": "stream",
          "name": "stdout",
          "text": "Run(Experiment: automl-experiment,\nId: AutoML_8bab294e-51b5-4cc6-88b4-d6c7c64d8400_36,\nType: azureml.scriptrun,\nStatus: Completed)\n{'log_loss': 0.4652249570658661, 'f1_score_weighted': 0.8115565663088772, 'recall_score_micro': 0.8115716014719517, 'precision_score_weighted': 0.8116651090946579, 'average_precision_score_macro': 0.9010612370473703, 'f1_score_micro': 0.8115716014719515, 'precision_score_macro': 0.8116430852921802, 'average_precision_score_micro': 0.9047032724388469, 'precision_score_micro': 0.8115716014719517, 'matthews_correlation': 0.6231820430023602, 'accuracy': 0.8115716014719517, 'f1_score_macro': 0.8115292290992873, 'weighted_accuracy': 0.8116041725138953, 'AUC_macro': 0.8999161008789696, 'average_precision_score_weighted': 0.9011573374563951, 'AUC_weighted': 0.8999161008789696, 'balanced_accuracy': 0.8115389754598159, 'norm_macro_recall': 0.6230779509196316, 'recall_score_macro': 0.8115389754598159, 'AUC_micro': 0.9020747095634671, 'recall_score_weighted': 0.8115716014719517, 'confusion_matrix': 'aml://artifactId/ExperimentRun/dcid.AutoML_8bab294e-51b5-4cc6-88b4-d6c7c64d8400_36/confusion_matrix', 'accuracy_table': 'aml://artifactId/ExperimentRun/dcid.AutoML_8bab294e-51b5-4cc6-88b4-d6c7c64d8400_36/accuracy_table'}\n"
        }
      ],
      "execution_count": 19,
      "metadata": {
        "jupyter": {
          "source_hidden": false,
          "outputs_hidden": false
        },
        "nteract": {
          "transient": {
            "deleting": false
          }
        },
        "gather": {
          "logged": 1706753938215
        }
      }
    },
    {
      "cell_type": "code",
      "source": [
        "best_model"
      ],
      "outputs": [
        {
          "output_type": "execute_result",
          "execution_count": 24,
          "data": {
            "text/plain": "PipelineWithYTransformations(Pipeline={'memory': None,\n                                       'steps': [('datatransformer',\n                                                  DataTransformer(enable_dnn=False, enable_feature_sweeping=True, feature_sweeping_config={}, feature_sweeping_timeout=86400, featurization_config=None, force_text_dnn=False, is_cross_validation=True, is_onnx_compatible=False, observer=None, task='classification', working_dir='/mn...\n                                                  PreFittedSoftVotingClassifier(classification_labels=array([0, 1]), estimators=[('18', Pipeline(memory=None, steps=[('standardscalerwrapper', StandardScalerWrapper(copy=True, with_mean=False, with_std=False)), ('xgboostclassifier', XGBoostClassifier(booster='gbtree', colsample_bytree=0.7, eta=0.1, gamma=0.1, max_depth=9, max_leaves=511, n_estimators=25, n_jobs=1, objective='reg:logistic', problem_info=ProblemInfo(gpu_training_param_dict={'processing_unit_type': 'cpu'}), random_state=0, reg_alpha=0, reg_lambda=1.7708333333333335, subsample=0.9, tree_method='auto'))], verbose=False)), ('0', Pipeline(memory=None, steps=[('maxabsscaler', MaxAbsScaler(copy=True)), ('lightgbmclassifier', LightGBMClassifier(min_data_in_leaf=20, n_jobs=1, problem_info=ProblemInfo(gpu_training_param_dict={'processing_unit_type': 'cpu'}), random_state=None))], verbose=False)), ('29', Pipeline(memory=None, steps=[('sparsenormalizer', Normalizer(copy=True, norm='l2')), ('xgboostclassifier', XGBoostClassifier(booster='gbtree', colsample_bytree=0.9, eta=0.01, gamma=0, max_depth=9, max_leaves=7, n_estimators=100, n_jobs=1, objective='reg:logistic', problem_info=ProblemInfo(gpu_training_param_dict={'processing_unit_type': 'cpu'}), random_state=0, reg_alpha=1.9791666666666667, reg_lambda=2.0833333333333335, subsample=1, tree_method='auto'))], verbose=False)), ('22', Pipeline(memory=None, steps=[('sparsenormalizer', Normalizer(copy=True, norm='l1')), ('xgboostclassifier', XGBoostClassifier(booster='gbtree', colsample_bylevel=1, colsample_bytree=1, eta=0.2, gamma=0, max_depth=10, max_leaves=0, n_estimators=10, n_jobs=1, objective='reg:logistic', problem_info=ProblemInfo(gpu_training_param_dict={'processing_unit_type': 'cpu'}), random_state=0, reg_alpha=1.3541666666666667, reg_lambda=1.4583333333333335, subsample=1, tree_method='auto'))], verbose=False)), ('4', Pipeline(memory=None, steps=[('maxabsscaler', MaxAbsScaler(copy=True)), ('lightgbmclassifier', LightGBMClassifier(boosting_type='gbdt', colsample_bytree=0.6933333333333332, learning_rate=0.09473736842105263, max_bin=110, max_depth=8, min_child_weight=6, min_data_in_leaf=0.003457931034482759, min_split_gain=1, n_estimators=25, n_jobs=1, num_leaves=227, problem_info=ProblemInfo(gpu_training_param_dict={'processing_unit_type': 'cpu'}), random_state=None, reg_alpha=0.9473684210526315, reg_lambda=0.42105263157894735, subsample=0.49526315789473685))], verbose=False)), ('30', Pipeline(memory=None, steps=[('standardscalerwrapper', StandardScalerWrapper(copy=True, with_mean=False, with_std=False)), ('xgboostclassifier', XGBoostClassifier(booster='gbtree', colsample_bytree=0.9, eta=0.3, gamma=5, max_depth=0, max_leaves=255, n_estimators=25, n_jobs=1, objective='reg:logistic', problem_info=ProblemInfo(gpu_training_param_dict={'processing_unit_type': 'cpu'}), random_state=0, reg_alpha=2.1875, reg_lambda=2.291666666666667, subsample=1, tree_method='auto'))], verbose=False)), ('27', Pipeline(memory=None, steps=[('standardscalerwrapper', StandardScalerWrapper(copy=True, with_mean=False, with_std=False)), ('xgboostclassifier', XGBoostClassifier(booster='gbtree', colsample_bytree=0.7, eta=0.01, gamma=10, max_depth=6, max_leaves=15, n_estimators=25, n_jobs=1, objective='reg:logistic', problem_info=ProblemInfo(gpu_training_param_dict={'processing_unit_type': 'cpu'}), random_state=0, reg_alpha=0, reg_lambda=0.3125, subsample=0.5, tree_method='auto'))], verbose=False))], flatten_transform=None, weights=[0.125, 0.125, 0.25, 0.125, 0.125, 0.125, 0.125]))],\n                                       'verbose': False},\n                             y_transformer={},\n                             y_transformer_name='LabelEncoder')"
          },
          "metadata": {}
        }
      ],
      "execution_count": 24,
      "metadata": {
        "jupyter": {
          "source_hidden": false,
          "outputs_hidden": false
        },
        "nteract": {
          "transient": {
            "deleting": false
          }
        },
        "gather": {
          "logged": 1706754827121
        }
      }
    },
    {
      "cell_type": "markdown",
      "source": [
        "## Model Deployment\n",
        "\n",
        "Remember you have to deploy only one of the two models you trained but you still need to register both the models. Perform the steps in the rest of this notebook only if you wish to deploy this model.\n",
        "\n",
        "TODO: In the cell below, register the model, create an inference config and deploy the model as a web service."
      ],
      "metadata": {}
    },
    {
      "cell_type": "code",
      "source": [
        "registered_model = automl_run.register_model(model_name='BestAutoMLmodel')"
      ],
      "outputs": [],
      "execution_count": 20,
      "metadata": {
        "jupyter": {
          "source_hidden": false,
          "outputs_hidden": false
        },
        "nteract": {
          "transient": {
            "deleting": false
          }
        },
        "gather": {
          "logged": 1706753940418
        }
      }
    },
    {
      "cell_type": "code",
      "source": [
        "script = './score.py'\n",
        "best_run.download_file('./outputs/scoring_file_v_1_0_0.py', script)"
      ],
      "outputs": [],
      "execution_count": 22,
      "metadata": {
        "jupyter": {
          "source_hidden": false,
          "outputs_hidden": false
        },
        "nteract": {
          "transient": {
            "deleting": false
          }
        },
        "gather": {
          "logged": 1706753941041
        }
      }
    },
    {
      "cell_type": "code",
      "source": [
        "from azureml.core.model import InferenceConfig\n",
        "from  azureml.core.environment import Environment\n",
        "from azureml.core import Model\n",
        "from azureml.core.webservice import AciWebservice\n",
        "\n",
        "env = best_run.get_environment()    \n",
        "\n",
        "inference_config = InferenceConfig(entry_script=script,\n",
        "                                   environment=env)\n",
        "\n",
        "deployment_config =AciWebservice.deploy_configuration(cpu_cores = 1, \n",
        "                                               memory_gb = 1,\n",
        "                                               enable_app_insights=True,\n",
        "                                               auth_enabled=True,\n",
        "                                              )\n",
        "\n",
        "service = Model.deploy(ws, \"web-service-automl\", [registered_model], inference_config, deployment_config)\n",
        "service.wait_for_deployment(show_output = True)\n",
        "print(service.state)\n",
        "\n",
        "scoring_uri = service.scoring_uri\n",
        "print(scoring_uri)\n",
        "\n",
        "key, sec_key = service.get_keys()\n",
        "print(key)\n"
      ],
      "outputs": [
        {
          "output_type": "stream",
          "name": "stdout",
          "text": "Tips: You can try get_logs(): https://aka.ms/debugimage#dockerlog or local deployment: https://aka.ms/debugimage#debug-locally to debug if deployment takes longer than 10 minutes.\nRunning\n2024-02-01 02:19:03+00:00 Creating Container Registry if not exists..\n2024-02-01 02:29:03+00:00 Registering the environment.\n2024-02-01 02:29:03+00:00 Use the existing image.\n2024-02-01 02:29:04+00:00 Submitting deployment to compute..\n2024-02-01 02:29:09+00:00 Checking the status of deployment web-service-automl..\n2024-02-01 02:33:06+00:00 Checking the status of inference endpoint web-service-automl.\nSucceeded\nACI service creation operation finished, operation \"Succeeded\"\nHealthy\nhttp://d1ddb3c1-cf85-4869-8ac2-954df8eb7cdc.westus2.azurecontainer.io/score\nVInpAwDABTtjDPRuYfl8nCoXr916JbvZ\n"
        }
      ],
      "execution_count": 23,
      "metadata": {
        "jupyter": {
          "source_hidden": false,
          "outputs_hidden": false
        },
        "nteract": {
          "transient": {
            "deleting": false
          }
        },
        "gather": {
          "logged": 1706754826505
        }
      }
    },
    {
      "cell_type": "markdown",
      "source": [
        "Deployed from Studio\n",
        "\n"
      ],
      "metadata": {
        "nteract": {
          "transient": {
            "deleting": false
          }
        }
      }
    },
    {
      "cell_type": "markdown",
      "source": [
        "TODO: In the cell below, send a request to the web service you deployed to test it."
      ],
      "metadata": {
        "collapsed": true,
        "gather": {
          "logged": 1598431657736
        },
        "jupyter": {
          "outputs_hidden": false,
          "source_hidden": false
        },
        "nteract": {
          "transient": {
            "deleting": false
          }
        }
      }
    },
    {
      "cell_type": "code",
      "source": [
        "import requests\n",
        "import json\n",
        "\n",
        "# URL for the web service, should be similar to:\n",
        "# 'http://8530a665-66f3-49c8-a953-b82a2d312917.eastus.azurecontainer.io/score'\n",
        "# scoring_uri = 'http://091674f3-7d52-4713-a563-29fdf9673dcd.westeurope.azurecontainer.io/score'\n",
        "# If the service is authenticated, set the key or token\n",
        "# key = '2cloAPK95e4LlPLSINN0HXiMNWGOcJb5'\n",
        "\n",
        "# Two sets of data to score, so we get two results back\n",
        "data = {\n",
        "    \"data\":\n",
        "            [\n",
        "              {\n",
        "        \"HomePlanet\": \"Europa\",\n",
        "        \"CryoSleep\": \"False\",\n",
        "        \"Destination\": \"TRAPPIST-1e\",\n",
        "        \"VIP\": \"False\",\n",
        "        \"RoomService\": 109.00,\n",
        "        \"FoodCourt\": 1000,\n",
        "        \"ShoppingMall\": 25.0,\n",
        "        \"Spa\": 200.0,\n",
        "        \"VRDeck\": 2.0,\n",
        "        \"Cabin_Deck\": \"B\",\n",
        "        \"Cabin_Side\": \"P\",\n",
        "        \"Cabin_Region\": \"A\",\n",
        "        \"People_in_Cabin_Num\": 14,\n",
        "        \"People_in_Cabin_Deck\": 700,\n",
        "        \"Family_Size\": 4,\n",
        "        \"Group_Size\": 2,\n",
        "        \"Age_Cat\": \"Pre_Adult\"\n",
        "        }\n",
        "      ],\n",
        "    \"method\": \"predict\"\n",
        "}\n",
        "# Convert to JSON string\n",
        "input_data = json.dumps(data)\n",
        "with open(\"data.json\", \"w\") as _f:\n",
        "    _f.write(input_data)\n",
        "\n",
        "# Set the content type\n",
        "headers = {'Content-Type': 'application/json'}\n",
        "# If authentication is enabled, set the authorization header\n",
        "headers['Authorization'] = f'Bearer {key}'\n",
        "\n",
        "# Make the request and display the response\n",
        "resp = requests.post(scoring_uri, input_data, headers=headers)\n",
        "print(resp.json())\n"
      ],
      "outputs": [
        {
          "output_type": "stream",
          "name": "stdout",
          "text": "{\"result\": [false]}\n"
        }
      ],
      "execution_count": 26,
      "metadata": {
        "jupyter": {
          "source_hidden": false,
          "outputs_hidden": false
        },
        "nteract": {
          "transient": {
            "deleting": false
          }
        },
        "gather": {
          "logged": 1706755055697
        }
      }
    },
    {
      "cell_type": "markdown",
      "source": [
        "TODO: In the cell below, print the logs of the web service and delete the service"
      ],
      "metadata": {
        "collapsed": true,
        "gather": {
          "logged": 1598432765711
        },
        "jupyter": {
          "outputs_hidden": false,
          "source_hidden": false
        },
        "nteract": {
          "transient": {
            "deleting": false
          }
        }
      }
    },
    {
      "cell_type": "code",
      "source": [
        "%%writefile logs.py\n",
        "from azureml.core import Workspace, Webservice\n",
        "from azureml.exceptions import WebserviceException\n",
        "import time\n",
        "\n",
        "# Load the Azure ML workspace\n",
        "ws = Workspace.from_config()\n",
        "\n",
        "# Name of the web service\n",
        "service_name = 'web-service-automl'\n",
        "\n",
        "# Function to attempt to delete the service\n",
        "def try_delete_service(service):\n",
        "    try:\n",
        "        service.delete()\n",
        "        print(\"Web service deleted successfully.\")\n",
        "        return True\n",
        "    except WebserviceException as e:\n",
        "        print(f\"Error deleting web service: {str(e)}\")\n",
        "        return False\n",
        "\n",
        "# Get a reference to the web service\n",
        "service = Webservice(workspace=ws, name=service_name)\n",
        "\n",
        "# Print logs\n",
        "print(\"Web service logs:\")\n",
        "print(service.get_logs())\n",
        "\n",
        "# Wait for deployment operation to complete\n",
        "try:\n",
        "    service.wait_for_deployment()\n",
        "except WebserviceException as e:\n",
        "    # Ignore the exception related to the operation status\n",
        "    if \"No operation endpoint\" not in str(e) and \"Long running operation information not known\" not in str(e):\n",
        "        raise\n",
        "\n",
        "# Attempt to delete the deployed web service with retries\n",
        "max_retries = 3\n",
        "retry_count = 0\n",
        "\n",
        "while retry_count < max_retries:\n",
        "    if try_delete_service(service):\n",
        "        break\n",
        "    else:\n",
        "        retry_count += 1\n",
        "        print(f\"Retrying deletion (attempt {retry_count}/{max_retries})...\")\n",
        "        time.sleep(10)  # Wait for 10 seconds before retrying\n",
        "\n",
        "if retry_count == max_retries:\n",
        "    print(\"Max retries reached. Unable to delete the web service.\")\n"
      ],
      "outputs": [
        {
          "output_type": "stream",
          "name": "stdout",
          "text": "Overwriting logs.py\n"
        }
      ],
      "execution_count": 27,
      "metadata": {
        "jupyter": {
          "source_hidden": false,
          "outputs_hidden": false
        },
        "nteract": {
          "transient": {
            "deleting": false
          }
        }
      }
    },
    {
      "cell_type": "code",
      "source": [
        "!python logs.py"
      ],
      "outputs": [
        {
          "output_type": "stream",
          "name": "stdout",
          "text": "Web service logs:\nNone\nNo operation endpoint\n\nLong running operation information not known, unable to poll. Current state is Failed\n\nWeb service deleted successfully.\n"
        }
      ],
      "execution_count": 28,
      "metadata": {
        "jupyter": {
          "source_hidden": false,
          "outputs_hidden": false
        },
        "nteract": {
          "transient": {
            "deleting": false
          }
        }
      }
    },
    {
      "cell_type": "markdown",
      "source": [
        "**Submission Checklist**\n",
        "- I have registered the model.\n",
        "- I have deployed the model with the best accuracy as a webservice.\n",
        "- I have tested the webservice by sending a request to the model endpoint.\n",
        "- I have deleted the webservice and shutdown all the computes that I have used.\n",
        "- I have taken a screenshot showing the model endpoint as active.\n",
        "- The project includes a file containing the environment details.\n"
      ],
      "metadata": {}
    },
    {
      "cell_type": "markdown",
      "source": [],
      "metadata": {}
    }
  ],
  "metadata": {
    "kernel_info": {
      "name": "python38-azureml"
    },
    "kernelspec": {
      "name": "python38-azureml",
      "language": "python",
      "display_name": "Python 3.8 - AzureML"
    },
    "language_info": {
      "name": "python",
      "version": "3.8.5",
      "mimetype": "text/x-python",
      "codemirror_mode": {
        "name": "ipython",
        "version": 3
      },
      "pygments_lexer": "ipython3",
      "nbconvert_exporter": "python",
      "file_extension": ".py"
    },
    "nteract": {
      "version": "nteract-front-end@1.0.0"
    },
    "microsoft": {
      "host": {
        "AzureML": {
          "notebookHasBeenCompleted": true
        }
      },
      "ms_spell_check": {
        "ms_spell_check_language": "en"
      }
    }
  },
  "nbformat": 4,
  "nbformat_minor": 2
}